{
  "nbformat": 4,
  "nbformat_minor": 0,
  "metadata": {
    "colab": {
      "name": "DFS/BFS, 정렬, 이진정렬",
      "provenance": [],
      "authorship_tag": "ABX9TyMiFAbUbZrvXRfW+dIDt2Bc",
      "include_colab_link": true
    },
    "kernelspec": {
      "display_name": "Python 3",
      "name": "python3"
    },
    "language_info": {
      "name": "python"
    }
  },
  "cells": [
    {
      "cell_type": "markdown",
      "metadata": {
        "id": "view-in-github",
        "colab_type": "text"
      },
      "source": [
        "<a href=\"https://colab.research.google.com/github/hkyoo52/Algorithm/blob/main/DFS_BFS%2C_%EC%A0%95%EB%A0%AC%2C_%EC%9D%B4%EC%A7%84%EC%A0%95%EB%A0%AC.ipynb\" target=\"_parent\"><img src=\"https://colab.research.google.com/assets/colab-badge.svg\" alt=\"Open In Colab\"/></a>"
      ]
    },
    {
      "cell_type": "markdown",
      "metadata": {
        "id": "1W_yVJeS_wTG"
      },
      "source": [
        "## **DFS/BFS**"
      ]
    },
    {
      "cell_type": "code",
      "metadata": {
        "colab": {
          "base_uri": "https://localhost:8080/"
        },
        "id": "A4LBGXxL55B0",
        "outputId": "ace2469b-379f-4f4b-8506-1e8c7171845f"
      },
      "source": [
        "#DFS 예제\n",
        "\n",
        "def dfs(graph,v,visited):\n",
        "  visited[v]=True\n",
        "  print(v,end=' ')\n",
        "  for i in graph[v]:\n",
        "    if not visited[i]:\n",
        "      dfs(graph,i,visited)\n",
        "\n",
        "visited=[False]*9\n",
        "graph=[[],[2,3,8],[1,7],[1,4,5],[3,5],[3,4],[7],[2,6,8],[1,7]]\n",
        "\n",
        "dfs(graph,1,visited)"
      ],
      "execution_count": null,
      "outputs": [
        {
          "output_type": "stream",
          "text": [
            "1 2 7 6 8 3 4 5 "
          ],
          "name": "stdout"
        }
      ]
    },
    {
      "cell_type": "code",
      "metadata": {
        "colab": {
          "base_uri": "https://localhost:8080/"
        },
        "id": "UUob37tf6BY4",
        "outputId": "cd8e1f33-7fca-407c-8c72-2fac856fe2e0"
      },
      "source": [
        "# BFS 예제\n",
        "\n",
        "from collections import deque\n",
        "\n",
        "def bfs(graph,start,visited):\n",
        "  queue=deque([start])\n",
        "  visited[start]=True\n",
        "  while queue:\n",
        "    v=queue.popleft()\n",
        "    print(v,end=' ')\n",
        "    for i in graph[v]:\n",
        "      if not visited[i]:\n",
        "        queue.append(i)\n",
        "        visited[i]=True\n",
        "\n",
        "visited=[False]*9\n",
        "graph=[[],[2,3,8],[1,7],[1,4,5],[3,5],[3,4],[7],[2,6,8],[1,7]]\n",
        "\n",
        "bfs(graph,1,visited)"
      ],
      "execution_count": null,
      "outputs": [
        {
          "output_type": "stream",
          "text": [
            "1 2 3 8 7 4 5 6 "
          ],
          "name": "stdout"
        }
      ]
    },
    {
      "cell_type": "markdown",
      "metadata": {
        "id": "18iY-gpz_rM2"
      },
      "source": [
        "### **음료수 얼려먹기**\n"
      ]
    },
    {
      "cell_type": "code",
      "metadata": {
        "id": "034FRSbO_2ys"
      },
      "source": [
        "def direc(m,n,graph):\n",
        "  if m==0 and n==0:\n",
        "    return [[m+1,n],[m,n+1]]\n",
        "  elif m==0 and n==len(graph[0]):\n",
        "    return [[m+1,n],[m,n-1]]\n",
        "  elif m==0:\n",
        "    return [[m+1,n],[m,n-1],[m,n+1]]\n",
        "  return [[m+1,n],[m-1,n],[m,n+1],[m,n-1]]"
      ],
      "execution_count": null,
      "outputs": []
    },
    {
      "cell_type": "code",
      "metadata": {
        "colab": {
          "base_uri": "https://localhost:8080/"
        },
        "id": "6CUAEl45_4L9",
        "outputId": "4ac7825c-0d4b-40ca-e77d-37537a408f2b"
      },
      "source": [
        "def dfs(x,y):\n",
        "  if x<0 or x>=n or y<0 or y>=m:\n",
        "    return False\n",
        "  if graph[y][x]==0:\n",
        "    graph[y][x]=1\n",
        "    dfs(x,y+1)\n",
        "    dfs(x,y-1)\n",
        "    dfs(x+1,y)\n",
        "    dfs(x-1,y)\n",
        "    return True\n",
        "  return False\n",
        "\n",
        "m,n=map(int,input().split())\n",
        "graph=[]\n",
        "for i in range(m):\n",
        "  graph.append(list(map(int,input())))\n",
        "\n",
        "count=0\n",
        "for i in range(n):\n",
        "  for j in range(m):\n",
        "    if dfs(i,j)==True:\n",
        "      count+=1\n",
        "print(count)\n",
        "    \n"
      ],
      "execution_count": null,
      "outputs": [
        {
          "output_type": "stream",
          "text": [
            "4 5\n",
            "00110\n",
            "00011\n",
            "11111\n",
            "00000\n",
            "3\n"
          ],
          "name": "stdout"
        }
      ]
    },
    {
      "cell_type": "markdown",
      "metadata": {
        "id": "sBGKKjSMsfgb"
      },
      "source": [
        "### **미로 탈출**"
      ]
    },
    {
      "cell_type": "code",
      "metadata": {
        "colab": {
          "base_uri": "https://localhost:8080/"
        },
        "id": "cSYsGuxN2b2B",
        "outputId": "8fa85ab9-22bf-43da-c6eb-433d0635afe7"
      },
      "source": [
        "graph=[[1,0,1,0,1,0],\n",
        "       [1,1,1,1,1,1],\n",
        "       [0,0,0,0,0,1],\n",
        "       [1,1,1,1,1,1],\n",
        "       [1,1,1,1,1,1]]\n",
        "\n",
        "len(graph)"
      ],
      "execution_count": null,
      "outputs": [
        {
          "output_type": "execute_result",
          "data": {
            "text/plain": [
              "5"
            ]
          },
          "metadata": {
            "tags": []
          },
          "execution_count": 17
        }
      ]
    },
    {
      "cell_type": "code",
      "metadata": {
        "id": "DuYHTZea_4G9"
      },
      "source": [
        "def bfs(x,y,graph):\n",
        "  \n",
        "  if x<-1 or x>len(graph[0]) or y<-1 or y>len(graph):\n",
        "    return\n",
        "  print(y,x)\n",
        "  if graph[y][x]==1:\n",
        "    graph[y][x]=2\n",
        "    bfs(x,y+1,graph)\n",
        "    bfs(x+1,y,graph)\n",
        "  if x==len(graph[0]) and y==len(graph):\n",
        "    return graph\n",
        "\n",
        "\n",
        "graph=[[1,0,1,0,1,0],\n",
        "       [1,1,1,1,1,1],\n",
        "       [0,0,0,0,0,1],\n",
        "       [1,1,1,1,1,1],\n",
        "       [1,1,1,1,1,1]]\n",
        "\n",
        "new=bfs(0,0,graph)\n",
        "count=0\n",
        "for i in range(len(new[0])):\n",
        "  for j in range(len(new)):\n",
        "    if new[j][i]==2:\n",
        "      count+=1\n",
        "print(count)\n"
      ],
      "execution_count": null,
      "outputs": []
    },
    {
      "cell_type": "markdown",
      "metadata": {
        "id": "qy-o7OGlvJsI"
      },
      "source": [
        "### **DFS와 BFS**"
      ]
    },
    {
      "cell_type": "code",
      "metadata": {
        "id": "RGLS5rWUw_xJ"
      },
      "source": [
        "def graph(node,N):\n",
        "  graph=[[] for i in range(N+1)]\n",
        "  for i in node:    \n",
        "    graph[i[0]].append(i[1])\n",
        "    graph[i[1]].append(i[0])\n",
        "  for i in range(len(graph)):\n",
        "    sorted(graph[i])\n",
        "  return graph"
      ],
      "execution_count": null,
      "outputs": []
    },
    {
      "cell_type": "code",
      "metadata": {
        "id": "55oLgd0tvOQf"
      },
      "source": [
        "def dfs(graph,v,visited):\n",
        "  visited[v]=True\n",
        "  print(v,end='')\n",
        "  for i in graph[v]:\n",
        "    if visited[i]==False:\n",
        "      dfs(graph,i,visited)"
      ],
      "execution_count": null,
      "outputs": []
    },
    {
      "cell_type": "code",
      "metadata": {
        "id": "ZRyQXaDcyXLv"
      },
      "source": [
        "from collections import deque\n",
        "def bfs(graph,v,visited):\n",
        "  queue=deque([v])\n",
        "  visited[v]=True\n",
        "  while queue:\n",
        "    s=queue.popleft()\n",
        "    print(s,end='')\n",
        "    for i in graph[s]:\n",
        "      if visited[i]==False:\n",
        "        queue.append(i)\n",
        "        visited[i]=True\n",
        "    "
      ],
      "execution_count": null,
      "outputs": []
    },
    {
      "cell_type": "code",
      "metadata": {
        "colab": {
          "base_uri": "https://localhost:8080/"
        },
        "id": "is0i_XsBvNy_",
        "outputId": "39b6cb35-677b-408d-f68d-0e65f30e273d"
      },
      "source": [
        "N=4\n",
        "node=[[1,2],[1,3],[1,4],[2,4],[3,4]]\n",
        "visited=[False]*5\n",
        "g=graph(node,N)\n",
        "dfs(g,1,visited)"
      ],
      "execution_count": null,
      "outputs": [
        {
          "output_type": "stream",
          "text": [
            "1243"
          ],
          "name": "stdout"
        }
      ]
    },
    {
      "cell_type": "code",
      "metadata": {
        "colab": {
          "base_uri": "https://localhost:8080/"
        },
        "id": "GHqT48gD1CTj",
        "outputId": "645394ae-0d44-45fb-d180-bacfdb34afc3"
      },
      "source": [
        "N=4\n",
        "node=[[1,2],[1,3],[1,4],[2,4],[3,4]]\n",
        "visited=[False]*5\n",
        "g=graph(node,N)\n",
        "bfs(g,1,visited)"
      ],
      "execution_count": null,
      "outputs": [
        {
          "output_type": "stream",
          "text": [
            "1234"
          ],
          "name": "stdout"
        }
      ]
    },
    {
      "cell_type": "markdown",
      "metadata": {
        "id": "3IFnAsydgw3D"
      },
      "source": [
        "### **미로문제**"
      ]
    },
    {
      "cell_type": "code",
      "metadata": {
        "id": "BYImVPbGgzRj"
      },
      "source": [
        "#dfs\n",
        "def go(arr,c,r,place,visit,count):\n",
        "  dc=[1,-1,0,0]\n",
        "  dr=[0,0,1,-1]\n",
        "  \n",
        "  visit[c][r]=count\n",
        "  if c==place[0] and r==place[1]:\n",
        "    print(count)\n",
        "    return count\n",
        "\n",
        "  for i in range(4):\n",
        "    nc=c+dc[i]\n",
        "    nr=r+dr[i]\n",
        "    if 0<=nc<len(arr) and 0<=nr<len(arr[0]) and arr[nc][nr]==1 and (visit[nc][nr]==False or visit[nc][nr]>=count):\n",
        "      go(arr,nc,nr,place,visit,count+1)\n"
      ],
      "execution_count": null,
      "outputs": []
    },
    {
      "cell_type": "code",
      "metadata": {
        "id": "DU8h9iVUkC7H"
      },
      "source": [
        "#bfs\n",
        "from collections import deque\n",
        "dc=[-1,1,0,0]\n",
        "dr=[0,0,-1,1]\n",
        "def bfs(arr,c,r,n,m):\n",
        "  queue=deque()\n",
        "  queue.append((c,r))\n",
        "  while queue:\n",
        "    c,r=queue.popleft()\n",
        "    for i in range(4):\n",
        "      nc=c+dc[i]\n",
        "      nr=r+dr[i]\n",
        "      if nc<0 or nc>=len(arr) or nr<0 or nr>=len(arr[0]) or arr[nc][nr]==0:\n",
        "        continue\n",
        "      if arr[nc][nr]==1:\n",
        "        arr[nc][nr]=arr[c][r]+1\n",
        "        queue.append((nc,nr))\n",
        "  return arr[n-1][m-1]"
      ],
      "execution_count": null,
      "outputs": []
    },
    {
      "cell_type": "code",
      "metadata": {
        "colab": {
          "base_uri": "https://localhost:8080/"
        },
        "id": "13NrDDjKgy7b",
        "outputId": "b29ddc51-c798-4f74-d430-c2dd49967752"
      },
      "source": [
        "arr=[[1,0,1,1,1,1],\n",
        "     [1,0,1,0,1,0],\n",
        "     [1,0,1,0,1,1],\n",
        "     [1,1,1,0,1,1]]\n",
        "\n",
        "visit=[[False for i in range(6)] for i in range(4)]\n",
        "go(arr,0,0,[3,5],visit,1)"
      ],
      "execution_count": null,
      "outputs": [
        {
          "output_type": "stream",
          "text": [
            "15\n",
            "15\n"
          ],
          "name": "stdout"
        }
      ]
    },
    {
      "cell_type": "code",
      "metadata": {
        "colab": {
          "base_uri": "https://localhost:8080/"
        },
        "id": "rFIJ_hEFlOHL",
        "outputId": "95ba914d-5373-48d5-8916-6e70bf4adac5"
      },
      "source": [
        "bfs(arr,0,0,4,6)"
      ],
      "execution_count": null,
      "outputs": [
        {
          "output_type": "execute_result",
          "data": {
            "text/plain": [
              "15"
            ]
          },
          "metadata": {
            "tags": []
          },
          "execution_count": 13
        }
      ]
    },
    {
      "cell_type": "code",
      "metadata": {
        "colab": {
          "base_uri": "https://localhost:8080/"
        },
        "id": "rLbj3lJoAUyl",
        "outputId": "c7d309d4-9b6f-45d7-f149-61502bcb3edb"
      },
      "source": [
        "arr=[[1,1,0,1,1,0],\n",
        "     [1,1,0,1,1,0],\n",
        "     [1,1,1,1,1,1],\n",
        "     [1,1,1,1,0,1]]\n",
        "visit=[[False for i in range(6)] for i in range(4)]\n",
        "go(arr,0,0,[3,5],visit,1)"
      ],
      "execution_count": null,
      "outputs": [
        {
          "output_type": "stream",
          "text": [
            "17\n",
            "15\n",
            "13\n",
            "13\n",
            "11\n",
            "11\n",
            "11\n",
            "11\n",
            "11\n",
            "11\n",
            "11\n",
            "9\n",
            "9\n",
            "9\n"
          ],
          "name": "stdout"
        }
      ]
    },
    {
      "cell_type": "code",
      "metadata": {
        "colab": {
          "base_uri": "https://localhost:8080/"
        },
        "id": "0hsN5Nywlvek",
        "outputId": "2a8eaed0-872f-4c0f-90c2-774de2245119"
      },
      "source": [
        "bfs(arr,0,0,4,6)"
      ],
      "execution_count": null,
      "outputs": [
        {
          "output_type": "execute_result",
          "data": {
            "text/plain": [
              "9"
            ]
          },
          "metadata": {
            "tags": []
          },
          "execution_count": 15
        }
      ]
    },
    {
      "cell_type": "code",
      "metadata": {
        "colab": {
          "base_uri": "https://localhost:8080/"
        },
        "id": "3rSRftwEBxm9",
        "outputId": "6437e558-a84b-4542-ed51-9a21586b824a"
      },
      "source": [
        "arr=[[1,0,1,1,1,0,1,1,1,0,1,1,1,0,1,1,1,0,1,1,1,0,1,1,1],\n",
        "     [1,1,1,0,1,1,1,0,1,1,1,0,1,1,1,0,1,1,1,0,1,1,1,0,1]]\n",
        "visit=[[False for i in range(25)] for i in range(2)]\n",
        "go(arr,0,0,[1,24],visit,1)"
      ],
      "execution_count": null,
      "outputs": [
        {
          "output_type": "stream",
          "text": [
            "38\n"
          ],
          "name": "stdout"
        }
      ]
    },
    {
      "cell_type": "code",
      "metadata": {
        "colab": {
          "base_uri": "https://localhost:8080/"
        },
        "id": "gBWkv29alyuz",
        "outputId": "71197522-5d20-4d14-9568-2a5ad781715b"
      },
      "source": [
        "bfs(arr,0,0,2,25)"
      ],
      "execution_count": null,
      "outputs": [
        {
          "output_type": "execute_result",
          "data": {
            "text/plain": [
              "38"
            ]
          },
          "metadata": {
            "tags": []
          },
          "execution_count": 17
        }
      ]
    },
    {
      "cell_type": "markdown",
      "metadata": {
        "id": "zb0byJgTEFBv"
      },
      "source": [
        "### **순열 사이클**"
      ]
    },
    {
      "cell_type": "code",
      "metadata": {
        "id": "bd99v0veEEyI"
      },
      "source": [
        "#dfs\n",
        "def cycle(arr,num,count,do):\n",
        "  if len(arr)<=do:\n",
        "    print(count)\n",
        "    return count\n",
        "\n",
        "  lis=[]\n",
        "  \n",
        "  while True:\n",
        "    if num not in lis:\n",
        "      do+=1\n",
        "      lis.append(num)\n",
        "      num=arr[num-1]\n",
        "    else:\n",
        "      a=[x for x in arr if x not in lis]\n",
        "      cycle(arr,a[0],count+1,do)\n",
        "      break"
      ],
      "execution_count": null,
      "outputs": []
    },
    {
      "cell_type": "code",
      "metadata": {
        "id": "ChO5jfZDQsQs"
      },
      "source": [
        "#bfs - 승우\n",
        "\n",
        "from collections import deque\n",
        "\n",
        "def bfs(graph,start,visited):\n",
        "  queue=deque([start])\n",
        "  visited[start]=True\n",
        "  while queue:\n",
        "    v=queue.popleft()\n",
        "    temp.append(v)\n",
        "    print(v, end=' ')\n",
        "    for i in graph[v]:\n",
        "      if not visited[i]:\n",
        "        queue.append(i)\n",
        "        visited[i]=True\n",
        "  return 1\n",
        "\n",
        "sdata=[]\n",
        "data=list(map(int,input().split()))\n",
        "sortdata=sorted(data)\n",
        "n=len(data)\n",
        "\n",
        "for i in range(len(data)):\n",
        "  sdata.append([data[i],sortdata[i]])\n",
        "\n",
        "graph=[]\n",
        "tmp=[]\n",
        "for j in range(n+1):\n",
        "  for i in range(len(sdata)):\n",
        "    if sdata[i][0]==j:\n",
        "      if sdata[i][0] not in tmp:\n",
        "        tmp.append(sdata[i][1])\n",
        "    if sdata[i][1]==j:\n",
        "      if sdata[i][0] not in tmp:\n",
        "        tmp.append(sdata[i][0])\n",
        "  tmp.sort()\n",
        "  graph.append(tmp)\n",
        "  tmp=[]\n",
        "\n",
        "visited=[False]*(n+1)\n",
        "temp=[]\n",
        "cnt=0o\n",
        "\n",
        "for i in range(1,n+1):\n",
        "  if i not in temp:\n",
        "    cnt+=bfs(graph,i,visited)\n",
        "    print()\n"
      ],
      "execution_count": null,
      "outputs": []
    },
    {
      "cell_type": "code",
      "metadata": {
        "colab": {
          "base_uri": "https://localhost:8080/"
        },
        "id": "q71dwH-zELIs",
        "outputId": "dfa54f56-cb06-4171-d173-a93e9f0b3d7b"
      },
      "source": [
        "arr=[3,2,7,8,1,4,5,6]\n",
        "lis=[]\n",
        "cycle(arr,1,0,0)"
      ],
      "execution_count": null,
      "outputs": [
        {
          "output_type": "stream",
          "text": [
            "3\n"
          ],
          "name": "stdout"
        }
      ]
    },
    {
      "cell_type": "code",
      "metadata": {
        "colab": {
          "base_uri": "https://localhost:8080/"
        },
        "id": "_UGY9wKysjci",
        "outputId": "e55a264c-c37e-4e7c-b9ea-cb43046b34b7"
      },
      "source": [
        "arr=[2,1,3,4,5,6,7,9,10,8]\n",
        "lis=[]\n",
        "cycle(arr,1,0,0)"
      ],
      "execution_count": null,
      "outputs": [
        {
          "output_type": "stream",
          "text": [
            "7\n"
          ],
          "name": "stdout"
        }
      ]
    },
    {
      "cell_type": "markdown",
      "metadata": {
        "id": "RaPjM8sytBeF"
      },
      "source": [
        "### **반복수열**"
      ]
    },
    {
      "cell_type": "code",
      "metadata": {
        "id": "VQPXDMKFtD7z"
      },
      "source": [
        "def repeat(arr,n):\n",
        "  num=0\n",
        "  for i in str(arr[-1]):\n",
        "    num+=int(i)**n\n",
        "  arr.append(num)\n",
        "  ind=arr.index(num)\n",
        "  if ind != len(arr)-1:\n",
        "    print(ind)\n",
        "    return ind\n",
        "  else:\n",
        "    repeat(arr,n)\n",
        "  "
      ],
      "execution_count": null,
      "outputs": []
    },
    {
      "cell_type": "code",
      "metadata": {
        "colab": {
          "base_uri": "https://localhost:8080/"
        },
        "id": "wsrC4veOuFPL",
        "outputId": "e7340839-92ba-4c0d-e2e9-c2005626bc90"
      },
      "source": [
        "repeat([57],2)"
      ],
      "execution_count": null,
      "outputs": [
        {
          "output_type": "stream",
          "text": [
            "4\n"
          ],
          "name": "stdout"
        }
      ]
    },
    {
      "cell_type": "markdown",
      "metadata": {
        "id": "lqxYYQdhs__B"
      },
      "source": [
        "### **단지 번호 붙이기**"
      ]
    },
    {
      "cell_type": "code",
      "metadata": {
        "id": "q1wBu5oItD_a"
      },
      "source": [
        "from collections import deque\n",
        "def house_num(arr,start,count_arr):\n",
        "  arr[start[0]][start[1]]=0\n",
        "  count=1\n",
        "  queue=deque([start])\n",
        "  dc=[1,-1,0,0]\n",
        "  dr=[0,0,1,-1]\n",
        "  while queue:\n",
        "    place=queue.popleft()\n",
        "    for i in range(4):\n",
        "      nc=place[0]+dc[i]\n",
        "      nr=place[1]+dr[i]\n",
        "      if 0<=nc<len(arr) and 0<=nr<len(arr[0]) and arr[nc][nr]==1:\n",
        "        queue.append([nc,nr])\n",
        "        arr[nc][nr]=0\n",
        "        count+=1\n",
        "  count_arr.append(count)\n",
        "  num=0\n",
        "  for i in range(len(arr)):\n",
        "    if 1 in arr[i]:\n",
        "      j=arr[i].index(1)\n",
        "      house_num(arr,[i,j],count_arr)\n",
        "      num+1\n",
        "      break\n",
        "  if num==0:\n",
        "    return count_arr"
      ],
      "execution_count": null,
      "outputs": []
    },
    {
      "cell_type": "code",
      "metadata": {
        "colab": {
          "base_uri": "https://localhost:8080/"
        },
        "id": "DCkmpbyexgFJ",
        "outputId": "7951b85b-4d91-4e86-9f15-0f67154dae9d"
      },
      "source": [
        "arr=[[0,1,1,0,1,0,0],\n",
        "     [0,1,1,0,1,0,1],\n",
        "     [1,1,1,0,1,0,1],\n",
        "     [0,0,0,0,1,1,1],\n",
        "     [0,1,0,0,0,0,0],\n",
        "     [0,1,1,1,1,1,0],\n",
        "     [0,1,1,1,0,0,0]]\n",
        "house_num(arr,[0,1],[])"
      ],
      "execution_count": null,
      "outputs": [
        {
          "output_type": "execute_result",
          "data": {
            "text/plain": [
              "[7, 8, 9]"
            ]
          },
          "metadata": {
            "tags": []
          },
          "execution_count": 3
        }
      ]
    },
    {
      "cell_type": "markdown",
      "metadata": {
        "id": "WviyjWvMVInO"
      },
      "source": [
        "### **연결 요소의 개수**"
      ]
    },
    {
      "cell_type": "code",
      "metadata": {
        "id": "GlovwQeMVz8h"
      },
      "source": [
        "def make_graph(arr,N):\n",
        "  graph=[[] for i in range(N+1)]\n",
        "  for i in arr:\n",
        "    graph[i[0]].append(i[1])\n",
        "    graph[i[1]].append(i[0])\n",
        "  return graph"
      ],
      "execution_count": null,
      "outputs": []
    },
    {
      "cell_type": "code",
      "metadata": {
        "id": "mm5JWbkQVLVs"
      },
      "source": [
        "from collections import deque\n",
        "def count(graph,start,visited,n):\n",
        "  visited[start]=True\n",
        "  queue=deque([start])\n",
        "  while queue:\n",
        "    num=queue.popleft()\n",
        "    for i in graph[num]:\n",
        "      if visited[i]==False:\n",
        "        queue.append(i)\n",
        "        visited[i]=True\n",
        "  if False in visited:\n",
        "    ind=visited.index(False)\n",
        "    count(graph,ind,visited,n+1)\n",
        "  else:\n",
        "    print(n)\n",
        "    return n"
      ],
      "execution_count": null,
      "outputs": []
    },
    {
      "cell_type": "code",
      "metadata": {
        "colab": {
          "base_uri": "https://localhost:8080/"
        },
        "id": "ADZkVUjRXTQ1",
        "outputId": "bc2ec279-f362-40b4-b5aa-4417163e6303"
      },
      "source": [
        "N=6\n",
        "arr=[[1,2],[2,5],[5,1],[3,4],[4,6]]\n",
        "graph=make_graph(arr,N)\n",
        "visited=[False]*(N+1)\n",
        "visited[0]=True\n",
        "count(graph,1,visited,1)"
      ],
      "execution_count": null,
      "outputs": [
        {
          "output_type": "stream",
          "text": [
            "2\n"
          ],
          "name": "stdout"
        }
      ]
    },
    {
      "cell_type": "code",
      "metadata": {
        "colab": {
          "base_uri": "https://localhost:8080/"
        },
        "id": "mRvwM7CKX2me",
        "outputId": "17daa0f6-ec59-49af-946d-043c64b4d9ec"
      },
      "source": [
        "N=6\n",
        "arr=[[1,2],[2,5],[5,1],[3,4],[4,6],[5,4],[2,4],[2,3]]\n",
        "graph=make_graph(arr,N)\n",
        "visited=[False]*(N+1)\n",
        "visited[0]=True\n",
        "count(graph,1,visited,1)"
      ],
      "execution_count": null,
      "outputs": [
        {
          "output_type": "stream",
          "text": [
            "1\n"
          ],
          "name": "stdout"
        },
        {
          "output_type": "execute_result",
          "data": {
            "text/plain": [
              "1"
            ]
          },
          "metadata": {
            "tags": []
          },
          "execution_count": 9
        }
      ]
    },
    {
      "cell_type": "markdown",
      "metadata": {
        "id": "Nhg6petXh29f"
      },
      "source": [
        "### **숨바꼭질**"
      ]
    },
    {
      "cell_type": "code",
      "metadata": {
        "id": "w2dcXml3h6Hr"
      },
      "source": [
        "from collections import deque\n",
        "def find(start,K,visited):\n",
        "  queue=deque([start])\n",
        "  visited[start]=0\n",
        "  while queue:\n",
        "    N=queue.popleft()\n",
        "    if N==K:\n",
        "      return visited[N]\n",
        "    for new_N in [N-1,N+1]:\n",
        "      if visited[new_N] > visited[N]+1 and new_N<=100:\n",
        "        visited[new_N]=visited[N]+1\n",
        "        queue.append(new_N)\n",
        "    if N<50:\n",
        "      if visited[2*N]>visited[N]:\n",
        "        visited[2*N]=visited[N]+1\n",
        "        queue.append(2*N)\n"
      ],
      "execution_count": null,
      "outputs": []
    },
    {
      "cell_type": "code",
      "metadata": {
        "colab": {
          "base_uri": "https://localhost:8080/"
        },
        "id": "M-g7RGkyjO1y",
        "outputId": "6462a505-d862-4e9c-9734-10e32d9fad21"
      },
      "source": [
        "visited=[100]*100\n",
        "find(5,17,visited)"
      ],
      "execution_count": null,
      "outputs": [
        {
          "output_type": "execute_result",
          "data": {
            "text/plain": [
              "4"
            ]
          },
          "metadata": {
            "tags": []
          },
          "execution_count": 21
        }
      ]
    },
    {
      "cell_type": "markdown",
      "metadata": {
        "id": "N80eZPSYE0g5"
      },
      "source": [
        "### **외판원 순회2**"
      ]
    },
    {
      "cell_type": "code",
      "metadata": {
        "id": "tmm95gplGfMr"
      },
      "source": [
        "from itertools import permutations\n",
        "import math\n",
        "def go_cycle(graph):\n",
        "  arr=list(permutations(range(0,len(graph)),4))\n",
        "  arr=arr[:math.factorial(len(arr[0])-1)]\n",
        "  num=10e9\n",
        "  for i in arr:\n",
        "    sum=0\n",
        "    for j in range(len(i)-1):\n",
        "      if graph[i[j]][i[j+1]]==0:\n",
        "        break\n",
        "      else:\n",
        "        sum+=graph[i[j]][i[j+1]]\n",
        "    sum+=graph[i[-1]][0]\n",
        "    num=min(num,sum)\n",
        "  return num"
      ],
      "execution_count": null,
      "outputs": []
    },
    {
      "cell_type": "code",
      "metadata": {
        "colab": {
          "base_uri": "https://localhost:8080/"
        },
        "id": "gBZ1e5TrDx-K",
        "outputId": "8cb258ad-903a-4b56-d570-324620f5a82c"
      },
      "source": [
        "graph=[[0,10,15,20],\n",
        "       [5,0,9,10],\n",
        "       [6,13,0,12],\n",
        "       [8,8,9,0]]\n",
        "\n",
        "go_cycle(graph)"
      ],
      "execution_count": null,
      "outputs": [
        {
          "output_type": "execute_result",
          "data": {
            "text/plain": [
              "35"
            ]
          },
          "metadata": {
            "tags": []
          },
          "execution_count": 12
        }
      ]
    },
    {
      "cell_type": "markdown",
      "metadata": {
        "id": "kyWQ2OYMB_0u"
      },
      "source": [
        ""
      ]
    },
    {
      "cell_type": "markdown",
      "metadata": {
        "id": "qfuAVkCt_pJd"
      },
      "source": [
        "### **바이러스**"
      ]
    },
    {
      "cell_type": "code",
      "metadata": {
        "id": "SU9fcpHmAhar"
      },
      "source": [
        "def make_graph(node,N):\n",
        "  graph=[[] for i in range(N+1)]\n",
        "  for i in node:    \n",
        "    graph[i[0]].append(i[1])\n",
        "    graph[i[1]].append(i[0])\n",
        "  for i in range(len(graph)):\n",
        "    sorted(graph[i])\n",
        "  return graph"
      ],
      "execution_count": null,
      "outputs": []
    },
    {
      "cell_type": "code",
      "metadata": {
        "id": "GKM1vGBQ_8Io"
      },
      "source": [
        "from collections import deque\n",
        "def bfs(graph,start,visited):\n",
        "  queue=deque([start])\n",
        "  visited[start]=True\n",
        "  while queue:\n",
        "    s=queue.popleft()\n",
        "    for i in graph[s]:\n",
        "      if visited[i]==False:\n",
        "        queue.append(i)\n",
        "        visited[i]=True\n",
        "\n",
        "  return visited.count(True)-1"
      ],
      "execution_count": null,
      "outputs": []
    },
    {
      "cell_type": "code",
      "metadata": {
        "colab": {
          "base_uri": "https://localhost:8080/"
        },
        "id": "dzb5xzVt_8LQ",
        "outputId": "bc6f82e9-e870-4a96-e33e-245fce512ff0"
      },
      "source": [
        "N=7\n",
        "arr=[[1,2],[2,3],[1,5],[5,2],[5,6],[4,7]]\n",
        "visited=[False]*(N+1)\n",
        "graph=make_graph(arr,N)\n",
        "bfs(graph,1,visited)"
      ],
      "execution_count": null,
      "outputs": [
        {
          "output_type": "execute_result",
          "data": {
            "text/plain": [
              "4"
            ]
          },
          "metadata": {
            "tags": []
          },
          "execution_count": 51
        }
      ]
    },
    {
      "cell_type": "markdown",
      "metadata": {
        "id": "TUNh8wprNo6t"
      },
      "source": [
        "### **말이 되고싶은 원숭이**"
      ]
    },
    {
      "cell_type": "code",
      "metadata": {
        "id": "fwQmJImGNqvK"
      },
      "source": [
        "from collections import deque\n",
        "def horse_monkey(do,arr):\n",
        "  queue=deque()\n",
        "  queue.append((0,0))\n",
        "  dc=[1,0]\n",
        "  dr=[0,1]\n",
        "  horse_dc=[2,1]\n",
        "  horse_dr=[1,2]\n",
        "  while queue:\n",
        "    c,r=queue.popleft()\n",
        "    if c==len(arr)-1 and r==len(arr[0])-1:\n",
        "      return arr[c][r]\n",
        "    if do == False:\n",
        "      for i in range(2):\n",
        "        horse_c=c+horse_dc[i]\n",
        "        horse_r=r+horse_dr[i]\n",
        "        if horse_c>=0 and horse_c<len(arr) and horse_r>=0 and horse_r<len(arr[0]) and arr[horse_c][horse_r] != 1:\n",
        "          arr[horse_c][horse_r]=arr[c][r]+1\n",
        "          do=True\n",
        "          queue.append((horse_c,horse_r))\n",
        "    for i in range(2):\n",
        "      nc=c+dc[i]\n",
        "      nr=r+dr[i]\n",
        "      if nc>=0 and nc<len(arr) and nr>=0 and nr<len(arr[0]) and arr[nc][nr] !=1:\n",
        "        arr[nc][nr]=arr[c][r]+1\n",
        "        queue.append((nc,nr))"
      ],
      "execution_count": null,
      "outputs": []
    },
    {
      "cell_type": "code",
      "metadata": {
        "colab": {
          "base_uri": "https://localhost:8080/"
        },
        "id": "LWSJgZbXR1ZZ",
        "outputId": "a2b184ee-ec13-4924-bde0-5af8ebe71332"
      },
      "source": [
        "arr=[[0,0,0,0],\n",
        "     [1,0,0,0],\n",
        "     [0,0,1,0],\n",
        "     [0,1,0,0]]\n",
        "do=False\n",
        "horse_monkey(do,arr)"
      ],
      "execution_count": null,
      "outputs": [
        {
          "output_type": "execute_result",
          "data": {
            "text/plain": [
              "4"
            ]
          },
          "metadata": {
            "tags": []
          },
          "execution_count": 76
        }
      ]
    },
    {
      "cell_type": "markdown",
      "metadata": {
        "id": "ME4YmYJJdSVh"
      },
      "source": [
        "### **토마토**"
      ]
    },
    {
      "cell_type": "code",
      "metadata": {
        "id": "ogOWnBrAdasF"
      },
      "source": [
        "#arr, start 는 다 2차 배열\n",
        "from collections import deque\n",
        "def tomato(arr,start):\n",
        "  queue=deque(start)\n",
        "  dc=[-1,1,0,0]\n",
        "  dr=[0,0,-1,1]\n",
        "  while queue:\n",
        "    s=queue.popleft()\n",
        "    for i in range(4):\n",
        "      nc=s[0]+dc[i]\n",
        "      nr=s[1]+dr[i]\n",
        "      if nc>=0 and nc<len(arr) and nr>=0 and nr<len(arr[0]) and arr[nc][nr]==0:\n",
        "        queue.append([nc,nr])\n",
        "        arr[nc][nr]=arr[s[0]][s[1]]+1\n",
        "  num=0\n",
        "  for i in arr:\n",
        "    num=max(num,max(i))\n",
        "  return num-1"
      ],
      "execution_count": null,
      "outputs": []
    },
    {
      "cell_type": "code",
      "metadata": {
        "colab": {
          "base_uri": "https://localhost:8080/"
        },
        "id": "l5KSb70QdbBY",
        "outputId": "e03635b1-5a4b-4a28-dc6e-2cf30e2896be"
      },
      "source": [
        "arr=[[0,0,0,0,0,0],\n",
        "     [0,0,0,0,0,0],\n",
        "     [0,0,0,0,0,0],\n",
        "     [0,0,0,0,0,1]]\n",
        "tomato(arr,[[3,5]])"
      ],
      "execution_count": null,
      "outputs": [
        {
          "output_type": "execute_result",
          "data": {
            "text/plain": [
              "8"
            ]
          },
          "metadata": {
            "tags": []
          },
          "execution_count": 11
        }
      ]
    },
    {
      "cell_type": "code",
      "metadata": {
        "colab": {
          "base_uri": "https://localhost:8080/"
        },
        "id": "B2FSxTzLha3u",
        "outputId": "7bdc7f7c-2bea-4218-db76-abbddd76a40a"
      },
      "source": [
        "arr=[[1,-1,0,0,0,0],\n",
        "     [0,-1,0,0,0,0],\n",
        "     [0,0,0,0,-1,0],\n",
        "     [0,0,0,0,-1,1]]\n",
        "tomato(arr,[[0,0],[3,5]])"
      ],
      "execution_count": null,
      "outputs": [
        {
          "output_type": "execute_result",
          "data": {
            "text/plain": [
              "6"
            ]
          },
          "metadata": {
            "tags": []
          },
          "execution_count": 12
        }
      ]
    },
    {
      "cell_type": "code",
      "metadata": {
        "colab": {
          "base_uri": "https://localhost:8080/"
        },
        "id": "DOamT7A4har-",
        "outputId": "5e4396ea-5f1f-49c9-ad5f-51cbae77dec6"
      },
      "source": [
        "arr=[[-1,1,0,0,0],\n",
        "    [0,-1,-1,-1,0],\n",
        "    [0,-1,-1,-1,0],\n",
        "    [0,-1,-1,-1,0],\n",
        "    [0,0,0,0,0]]\n",
        "tomato(arr,[[0,1]])"
      ],
      "execution_count": null,
      "outputs": [
        {
          "output_type": "execute_result",
          "data": {
            "text/plain": [
              "14"
            ]
          },
          "metadata": {
            "tags": []
          },
          "execution_count": 16
        }
      ]
    },
    {
      "cell_type": "code",
      "metadata": {
        "colab": {
          "base_uri": "https://localhost:8080/"
        },
        "id": "tpL6c9OLiLBV",
        "outputId": "3ed5f2b3-985e-4b21-bf32-10f3a9b183de"
      },
      "source": [
        "arr=[[1,-1],[-1,1]]\n",
        "tomato(arr,[[0,0],[1,1]])"
      ],
      "execution_count": null,
      "outputs": [
        {
          "output_type": "execute_result",
          "data": {
            "text/plain": [
              "0"
            ]
          },
          "metadata": {
            "tags": []
          },
          "execution_count": 17
        }
      ]
    },
    {
      "cell_type": "markdown",
      "metadata": {
        "id": "I9uazn2IhaWI"
      },
      "source": [
        ""
      ]
    },
    {
      "cell_type": "markdown",
      "metadata": {
        "id": "QL25ss-CicUz"
      },
      "source": [
        "### **DSLR**"
      ]
    },
    {
      "cell_type": "code",
      "metadata": {
        "id": "oypPkw3vilrw"
      },
      "source": [
        "def D(n):\n",
        "  return n*2%10000\n",
        "def S(n):\n",
        "  return n-1\n",
        "def L(n):\n",
        "  if n<10:\n",
        "    return n\n",
        "  else:\n",
        "    return int(str(n)[1:]+str(n)[0])\n",
        "def R(n):\n",
        "  if n<10:\n",
        "    return n\n",
        "  else:\n",
        "    return int(str(n)[-1]+str(n)[:-1])\n"
      ],
      "execution_count": null,
      "outputs": []
    },
    {
      "cell_type": "code",
      "metadata": {
        "id": "J2qo6Z2OJZzb"
      },
      "source": [
        "def choose(i):\n",
        "  if i==0:\n",
        "    return 'D'\n",
        "  elif i==1:\n",
        "    return 'S'\n",
        "  elif i==2:\n",
        "    return 'L'\n",
        "  else:\n",
        "    return 'R'"
      ],
      "execution_count": null,
      "outputs": []
    },
    {
      "cell_type": "code",
      "metadata": {
        "id": "Ip-Qmu4llTj4"
      },
      "source": [
        "from collections import deque\n",
        "def count(n,anw):\n",
        "  queue=deque()\n",
        "  queue.append(('',n))\n",
        "  while queue:\n",
        "    A_B,num=queue.popleft()\n",
        "    if num==anw:\n",
        "      return A_B\n",
        "    arr=[D(num),S(num),L(num),R(num)]\n",
        "    for i in range(4):\n",
        "      num=arr[i]\n",
        "      queue.append((A_B+choose(i),num))"
      ],
      "execution_count": null,
      "outputs": []
    },
    {
      "cell_type": "code",
      "metadata": {
        "colab": {
          "base_uri": "https://localhost:8080/",
          "height": 35
        },
        "id": "goH83ccdDyUT",
        "outputId": "072a7794-283d-4407-eb14-45d6dca50105"
      },
      "source": [
        "count(1,16)"
      ],
      "execution_count": null,
      "outputs": [
        {
          "output_type": "execute_result",
          "data": {
            "application/vnd.google.colaboratory.intrinsic+json": {
              "type": "string"
            },
            "text/plain": [
              "'DDDD'"
            ]
          },
          "metadata": {
            "tags": []
          },
          "execution_count": 13
        }
      ]
    },
    {
      "cell_type": "markdown",
      "metadata": {
        "id": "G91usnYcQzsY"
      },
      "source": [
        "### **다리만들기**"
      ]
    },
    {
      "cell_type": "code",
      "metadata": {
        "id": "8XGFyiBVQcdn"
      },
      "source": [
        "import numpy as np\n",
        "import math\n",
        "def find_edge(arr):\n",
        "  island_arr=[]\n",
        "  while 1 in arr:\n",
        "    place=np.where(arr==1)\n",
        "    start=[place[0][0],place[1][0]]\n",
        "    arr,this_island=whole_island(arr,start)\n",
        "    island_arr.append(this_island)\n",
        "  min_num=10e9\n",
        "  for i in range(len(island_arr)):\n",
        "    new_arr=island_arr[:i]+island_arr[i+1:]\n",
        "    for j in island_arr[i]:\n",
        "      for h in new_arr:\n",
        "        min_num=min(min_num,min(np.sum(np.abs(np.array(h)-np.array(j)),axis=1)))  \n",
        "  return min_num-1"
      ],
      "execution_count": null,
      "outputs": []
    },
    {
      "cell_type": "code",
      "metadata": {
        "id": "uTYZ-yoOUEeZ"
      },
      "source": [
        "from collections import deque\n",
        "def whole_island(arr,start):\n",
        "  this_island=[(start)]\n",
        "  c,r=start[0],start[1]\n",
        "  queue=deque()\n",
        "  queue.append((c,r))\n",
        "  dc=[1,0,-1,0]\n",
        "  dr=[0,1,0,-1]\n",
        "  dcc=[1,1,0,-1,-1,-1,0,1]\n",
        "  drr=[0,1,1,1,0,-1,-1,-1]\n",
        "  arr[c][r]=2\n",
        "  while queue:\n",
        "    c,r=queue.popleft()\n",
        "    for i in range(4):\n",
        "      nc=c+dc[i]\n",
        "      nr=r+dr[i]\n",
        "      if nc>=0 and nc<len(arr) and nr>=0 and nr<len(arr[0]) and arr[nc][nr]==1:\n",
        "        for j in range(8):\n",
        "          ncc=nc+dcc[j]\n",
        "          nrr=nr+drr[j]\n",
        "          if ncc>=0 and ncc<len(arr) and nrr>=0 and nrr<len(arr[0]) and(nc==0 or nc==len(arr)-1 or nr==0 or nrr==len(arr[0])-1 or arr[ncc][nrr]==0)  and (nc,nr) not in queue:\n",
        "            queue.append((nc,nr))\n",
        "            arr[nc][nr]=2\n",
        "            this_island.append([nc,nr])\n",
        "  \n",
        "  return arr, this_island"
      ],
      "execution_count": null,
      "outputs": []
    },
    {
      "cell_type": "code",
      "metadata": {
        "colab": {
          "base_uri": "https://localhost:8080/"
        },
        "id": "P1yCoNglZCrd",
        "outputId": "a9759a31-2171-4029-c1fc-7e46cbdfe99f"
      },
      "source": [
        "arr=[[1,1,1,0,0,0,0,1,1,1],\n",
        "     [1,1,1,1,0,0,0,0,1,1],\n",
        "     [1,0,1,1,0,0,0,0,1,1],\n",
        "     [0,0,1,1,1,0,0,0,0,1],\n",
        "     [0,0,0,1,0,0,0,0,0,1],\n",
        "     [0,0,0,0,0,0,0,0,0,1],\n",
        "     [0,0,0,0,0,0,0,0,0,0],\n",
        "     [0,0,0,0,1,1,0,0,0,0],\n",
        "     [0,0,0,0,1,1,1,0,0,0],\n",
        "     [0,0,0,0,0,0,0,0,0,0]]\n",
        "arr=np.array(arr)\n",
        "find_edge(arr)"
      ],
      "execution_count": null,
      "outputs": [
        {
          "output_type": "execute_result",
          "data": {
            "text/plain": [
              "3"
            ]
          },
          "metadata": {
            "tags": []
          },
          "execution_count": 225
        }
      ]
    },
    {
      "cell_type": "code",
      "metadata": {
        "colab": {
          "base_uri": "https://localhost:8080/"
        },
        "id": "srDSmG3LR8jt",
        "outputId": "2a3e1882-e936-4185-de5a-ce6518c5096a"
      },
      "source": [
        "def dfs(c,r,graph,result):\n",
        "  if c<0 or c>=len(graph) or c<0 or c>len(graph[0]):\n",
        "    return False\n",
        "  if graph[c][r]==1:\n",
        "    graph[c][r]=result\n",
        "    dfs(c+1,r,graph,result)\n",
        "    dfs(c-1,r,graph,result)\n",
        "    dfs(c,r+1,graph,result)\n",
        "    dfs(c,r-1,graph,result)\n",
        "    return True\n",
        "  return False\n",
        "\n",
        "arr=[[1,1,1,0,0,0,0,1,1,1],\n",
        "     [1,1,1,1,0,0,0,0,1,1],\n",
        "     [1,0,1,1,0,0,0,0,1,1],\n",
        "     [0,0,1,1,1,0,0,0,0,1],\n",
        "     [0,0,0,1,0,0,0,0,0,1],\n",
        "     [0,0,0,0,0,0,0,0,0,1],\n",
        "     [0,0,0,0,0,0,0,0,0,0],\n",
        "     [0,0,0,0,1,1,0,0,0,0],\n",
        "     [0,0,0,0,1,1,1,0,0,0],\n",
        "     [0,0,0,0,0,0,0,0,0,0]]\n",
        "result=2\n",
        "for i in range(len(arr)):\n",
        "  for j in range(len(arr[0])):\n",
        "    if dfs(i,j,arr,result)==True:\n",
        "      result+=1\n",
        "\n",
        "for i in arr:\n",
        "  print(i)"
      ],
      "execution_count": null,
      "outputs": [
        {
          "output_type": "stream",
          "text": [
            "[2, 2, 2, 0, 0, 0, 0, 2, 2, 2]\n",
            "[2, 2, 2, 2, 0, 0, 0, 0, 2, 2]\n",
            "[2, 0, 2, 2, 0, 0, 0, 0, 2, 2]\n",
            "[0, 0, 2, 2, 2, 0, 0, 0, 0, 2]\n",
            "[0, 0, 0, 2, 0, 0, 0, 0, 0, 2]\n",
            "[0, 0, 0, 0, 0, 0, 0, 0, 0, 2]\n",
            "[0, 0, 0, 0, 0, 0, 0, 0, 0, 0]\n",
            "[0, 0, 0, 0, 3, 3, 0, 0, 0, 0]\n",
            "[0, 0, 0, 0, 3, 3, 3, 0, 0, 0]\n",
            "[0, 0, 0, 0, 0, 0, 0, 0, 0, 0]\n"
          ],
          "name": "stdout"
        }
      ]
    },
    {
      "cell_type": "markdown",
      "metadata": {
        "id": "i3zxhoKtlTYF"
      },
      "source": [
        "### **특정 거리의 도시 찾기**"
      ]
    },
    {
      "cell_type": "code",
      "metadata": {
        "id": "QrcTEjWtmy3_"
      },
      "source": [
        "def make_graph(arr,N):\n",
        "  graph=[[] for i in range(N+1)]\n",
        "  for i in arr:\n",
        "    graph[i[0]].append(i[1])\n",
        "  return graph"
      ],
      "execution_count": null,
      "outputs": []
    },
    {
      "cell_type": "code",
      "metadata": {
        "id": "j2c3SMcHla1P"
      },
      "source": [
        "#bfs\n",
        "from collections import deque\n",
        "def bfs(graph,start,n,k):\n",
        "  visited=[False]*(n+1)\n",
        "  visited[start]=0\n",
        "  queue=deque()\n",
        "  queue.append(start)\n",
        "  while queue:\n",
        "    num=queue.popleft()\n",
        "    for i in graph[num]:\n",
        "      if visited[i] == False:\n",
        "        visited[i]=visited[num]+1\n",
        "        queue.append(i)\n",
        "  anw=[]\n",
        "  for i in range(len(visited)):\n",
        "    if visited[i]==k:\n",
        "      anw.append(i)\n",
        "  if len(anw)==0:\n",
        "    anw.append(-1)\n",
        "  return anw"
      ],
      "execution_count": null,
      "outputs": []
    },
    {
      "cell_type": "code",
      "metadata": {
        "colab": {
          "base_uri": "https://localhost:8080/"
        },
        "id": "_pLq-AT4lbLj",
        "outputId": "a6c059e6-5fec-4f44-c8e5-2e6cbdea3fdf"
      },
      "source": [
        "arr=[[1,2],[1,3],[2,3],[2,4]]\n",
        "n,k=4,2\n",
        "graph=make_graph(arr,n)\n",
        "bfs(graph,1,n,k)"
      ],
      "execution_count": null,
      "outputs": [
        {
          "output_type": "execute_result",
          "data": {
            "text/plain": [
              "[4]"
            ]
          },
          "metadata": {
            "tags": []
          },
          "execution_count": 23
        }
      ]
    },
    {
      "cell_type": "code",
      "metadata": {
        "colab": {
          "base_uri": "https://localhost:8080/"
        },
        "id": "ak-K1W-qofCT",
        "outputId": "cc887aac-a945-4d64-f0f9-8d79cf11dca5"
      },
      "source": [
        "arr=[[1,2],[1,3],[1,4]]\n",
        "n,k = 4,2\n",
        "graph=make_graph(arr,n)\n",
        "bfs(graph,1,n,k)"
      ],
      "execution_count": null,
      "outputs": [
        {
          "output_type": "execute_result",
          "data": {
            "text/plain": [
              "[-1]"
            ]
          },
          "metadata": {
            "tags": []
          },
          "execution_count": 24
        }
      ]
    },
    {
      "cell_type": "code",
      "metadata": {
        "colab": {
          "base_uri": "https://localhost:8080/"
        },
        "id": "XSKRV8A7pBF1",
        "outputId": "cfeb559d-1576-467d-d8a9-7f28d166598c"
      },
      "source": [
        "arr=[[1,2],[1,3],[2,3],[2,4]]\n",
        "n,k=4,1\n",
        "graph=make_graph(arr,n)\n",
        "bfs(graph,1,n,k)"
      ],
      "execution_count": null,
      "outputs": [
        {
          "output_type": "execute_result",
          "data": {
            "text/plain": [
              "[2, 3]"
            ]
          },
          "metadata": {
            "tags": []
          },
          "execution_count": 26
        }
      ]
    },
    {
      "cell_type": "code",
      "metadata": {
        "id": "_jAVGJePp1J6"
      },
      "source": [
        "#dfs\n",
        "def dfs(graph,start,n,k):\n",
        "  if visited[start]==False or visited[start]>n:\n",
        "    visited[start]=n\n",
        "  for i in graph[start]:\n",
        "    dfs(graph,i,n+1,k)\n",
        "  arr=[]\n",
        "  for i in range(len(visited)):\n",
        "    if  visited[i]==k:\n",
        "      arr.append(i)\n",
        "  return arr"
      ],
      "execution_count": null,
      "outputs": []
    },
    {
      "cell_type": "code",
      "metadata": {
        "colab": {
          "base_uri": "https://localhost:8080/"
        },
        "id": "TSSmCtGlp6hg",
        "outputId": "e6c8b486-b50c-449f-c8bc-d096751214b5"
      },
      "source": [
        "visited=[False]*(n+1)\n",
        "visited[1]=0\n",
        "arr=[[1,2],[1,3],[2,3],[2,4]]\n",
        "n,k=4,1\n",
        "graph=make_graph(arr,n)\n",
        "dfs(graph,1,0,k)"
      ],
      "execution_count": null,
      "outputs": [
        {
          "output_type": "execute_result",
          "data": {
            "text/plain": [
              "[2, 3]"
            ]
          },
          "metadata": {
            "tags": []
          },
          "execution_count": 35
        }
      ]
    },
    {
      "cell_type": "markdown",
      "metadata": {
        "id": "SnEdwesvFAyd"
      },
      "source": [
        "### **연구소**"
      ]
    },
    {
      "cell_type": "code",
      "metadata": {
        "id": "16Uh7jFpFDKZ"
      },
      "source": [
        "dc=[0,0,1,-1]\n",
        "dr=[1,-1,0,0]\n",
        "def virus_move(arr,c,r):\n",
        "  if c<0 or c>=len(arr) or r<0 or r>=len(arr[0]):\n",
        "    return False\n",
        "  if arr[c][r]==0:\n",
        "    arr[c][r]=2\n",
        "    for i in range(4):\n",
        "      virus_move(arr,c+dc[i],r+dr[i])\n",
        "    return True\n",
        "  return False"
      ],
      "execution_count": null,
      "outputs": []
    },
    {
      "cell_type": "code",
      "metadata": {
        "id": "L9Mc8x6vKsoF"
      },
      "source": [
        "def get_score(arr):\n",
        "  score=0\n",
        "  for i in range(len(arr)):\n",
        "    for j in range(len(arr[0])):\n",
        "      if arr[i][j]==0:\n",
        "        score+=1\n",
        "  return score"
      ],
      "execution_count": null,
      "outputs": []
    },
    {
      "cell_type": "code",
      "metadata": {
        "id": "z2sf-MdFK-aR"
      },
      "source": [
        "def find_zero(arr):\n",
        "  zero_arr=[]\n",
        "  for i in range(len(arr)):\n",
        "    for j in range(len(arr[0])):\n",
        "      if arr[i][j]==0:\n",
        "        zero_arr.append([i,j])\n",
        "  return zero_arr"
      ],
      "execution_count": null,
      "outputs": []
    },
    {
      "cell_type": "code",
      "metadata": {
        "id": "5P3rH3obLsvM"
      },
      "source": [
        "from itertools import combinations\n",
        "import copy\n",
        "def anw(graph):\n",
        "  walls=list(combinations(find_zero(graph),3))\n",
        "  max_score=0\n",
        "  for i in walls:\n",
        "    arr=copy.deepcopy(graph)\n",
        "    for j in i:\n",
        "      arr[j[0]][j[1]]=1\n",
        "    for h in range(len(arr)):\n",
        "      for k in range(len(arr[0])):\n",
        "        if arr[h][k]==2:\n",
        "          arr[h][k]=0\n",
        "          if virus_move(arr,h,k)==True:\n",
        "            pass\n",
        "    max_score=max(max_score,get_score(arr))\n",
        "  return max_score"
      ],
      "execution_count": null,
      "outputs": []
    },
    {
      "cell_type": "code",
      "metadata": {
        "colab": {
          "base_uri": "https://localhost:8080/"
        },
        "id": "TRh0-jS-HsoO",
        "outputId": "8a1364bd-0c1e-49ae-930e-c7810ed210d2"
      },
      "source": [
        "graph=[[2,0,0,0,1,1,0],\n",
        "     [0,0,1,0,1,2,0],\n",
        "     [0,1,1,0,1,0,0],\n",
        "     [0,1,0,0,0,0,0],\n",
        "     [0,0,0,0,0,1,1],\n",
        "     [0,1,0,0,0,0,0],\n",
        "     [0,1,0,0,0,0,0]]\n",
        "anw(graph)"
      ],
      "execution_count": null,
      "outputs": [
        {
          "output_type": "execute_result",
          "data": {
            "text/plain": [
              "27"
            ]
          },
          "metadata": {
            "tags": []
          },
          "execution_count": 49
        }
      ]
    },
    {
      "cell_type": "code",
      "metadata": {
        "colab": {
          "base_uri": "https://localhost:8080/"
        },
        "id": "ES3f9EstPPSr",
        "outputId": "e275fde9-83fe-40ba-d191-fea49fb8c32a"
      },
      "source": [
        "graph=[[0,0,0,0,0,0],\n",
        "       [1,0,0,0,0,2],\n",
        "       [1,1,1,0,0,2],\n",
        "       [0,0,0,0,0,2]]\n",
        "anw(graph)"
      ],
      "execution_count": null,
      "outputs": [
        {
          "output_type": "execute_result",
          "data": {
            "text/plain": [
              "9"
            ]
          },
          "metadata": {
            "tags": []
          },
          "execution_count": 50
        }
      ]
    },
    {
      "cell_type": "markdown",
      "metadata": {
        "id": "DbDR9Pu3oV5J"
      },
      "source": [
        "### **경쟁적 점염**"
      ]
    },
    {
      "cell_type": "code",
      "metadata": {
        "id": "Uqg-DqAmoTJJ"
      },
      "source": [
        "from collections import deque\n",
        "def virus_move(graph,where_virus):\n",
        "  dc=[-1,1,0,0]\n",
        "  dr=[0,0,-1,1]\n",
        "  for i in range(len(where_virus)):\n",
        "    put_arr=[]\n",
        "    for j in where_virus[i]:\n",
        "      c=j[0]\n",
        "      r=j[1]\n",
        "      for h in range(4):\n",
        "        nc=c+dc[h]\n",
        "        nr=r+dr[h]\n",
        "        if nc>=0 and nc<len(graph) and nr>=0 and nr<len(graph[0]) and graph[nc][nr]==0:\n",
        "          graph[nc][nr]=i+1\n",
        "          put_arr.append([nc,nr])\n",
        "    for g in put_arr:\n",
        "      where_virus[i].append(g)\n",
        "  return graph,where_virus"
      ],
      "execution_count": null,
      "outputs": []
    },
    {
      "cell_type": "code",
      "metadata": {
        "id": "_OwANn6Ls78r"
      },
      "source": [
        "def anw(graph,where_virus,time,x,y):\n",
        "  for i in range(time):\n",
        "    graph,where_virus=virus_move(graph,where_virus)\n",
        "  return graph[x-1][y-1]"
      ],
      "execution_count": null,
      "outputs": []
    },
    {
      "cell_type": "code",
      "metadata": {
        "id": "QEfrdiCbu8sl"
      },
      "source": [
        "def find_first(arr,k):\n",
        "  virus_place=[[] for g in range(k)]\n",
        "  for i in range(k):\n",
        "    for j in range(len(arr)):\n",
        "      for h in range(len(arr)):\n",
        "        if arr[j][h]==i+1:\n",
        "          virus_place[i].append([j,h])\n",
        "  return virus_place"
      ],
      "execution_count": null,
      "outputs": []
    },
    {
      "cell_type": "code",
      "metadata": {
        "colab": {
          "base_uri": "https://localhost:8080/"
        },
        "id": "-1Bzjvm2qBJ9",
        "outputId": "7a7ffe4a-1c09-4e8e-f98d-e7f4b8c49fd1"
      },
      "source": [
        "graph=[[1,0,2],[0,0,0],[3,0,0]]\n",
        "where_virus=find_first(graph,3)\n",
        "anw(graph,where_virus,2,3,2)"
      ],
      "execution_count": null,
      "outputs": [
        {
          "output_type": "stream",
          "text": [
            "[[[0, 0]], [[0, 2]], [[2, 0]]]\n"
          ],
          "name": "stdout"
        },
        {
          "output_type": "execute_result",
          "data": {
            "text/plain": [
              "3"
            ]
          },
          "metadata": {
            "tags": []
          },
          "execution_count": 5
        }
      ]
    },
    {
      "cell_type": "code",
      "metadata": {
        "colab": {
          "base_uri": "https://localhost:8080/"
        },
        "id": "iTnVIHbfu6e-",
        "outputId": "74bc29fa-f2eb-4816-9192-d74f03483655"
      },
      "source": [
        "graph=[[1,0,2],[0,0,0],[3,0,0]]\n",
        "where_virus=find_first(graph,3)\n",
        "anw(graph,where_virus,1,2,2)"
      ],
      "execution_count": null,
      "outputs": [
        {
          "output_type": "execute_result",
          "data": {
            "text/plain": [
              "0"
            ]
          },
          "metadata": {
            "tags": []
          },
          "execution_count": 65
        }
      ]
    },
    {
      "cell_type": "markdown",
      "metadata": {
        "id": "Eo6CNjD22on3"
      },
      "source": [
        "### **괄호 변환**"
      ]
    },
    {
      "cell_type": "code",
      "metadata": {
        "id": "uXKR0C-u7jUt"
      },
      "source": [
        "def change(word):\n",
        "  new_word=''\n",
        "  for i in word:\n",
        "    if i=='(':\n",
        "      new_word+=')'\n",
        "    else:\n",
        "      new_word+='('\n",
        "  return new_word"
      ],
      "execution_count": null,
      "outputs": []
    },
    {
      "cell_type": "code",
      "metadata": {
        "id": "ifBqvxss2rZ6"
      },
      "source": [
        "def devide_uv(word,balance=True):\n",
        "  if len(word)==0:\n",
        "    return word\n",
        "  num=0\n",
        "  for i in range(len(word)):\n",
        "    if word[i]=='(':\n",
        "      num+=1\n",
        "    else:\n",
        "      num-=1\n",
        "    if num==0:\n",
        "      break\n",
        "    if num<0:\n",
        "      balance=False\n",
        "\n",
        "  if balance==True:\n",
        "    u=word[:i+1]\n",
        "    v=devide_uv(word[i+1:])\n",
        "    return u+v\n",
        "  else:\n",
        "    if i>1:\n",
        "      u='(' + change(word[1:i])+ ')'\n",
        "      v=devide_uv(word[i+1:])\n",
        "      return u+v\n",
        "    else:\n",
        "      return '()'"
      ],
      "execution_count": null,
      "outputs": []
    },
    {
      "cell_type": "code",
      "metadata": {
        "colab": {
          "base_uri": "https://localhost:8080/",
          "height": 35
        },
        "id": "-E9Cu4QN2rW1",
        "outputId": "5f56129d-4f4d-4056-8c8f-e89c503f10cc"
      },
      "source": [
        "word='()))((()'\n",
        "devide_uv(word)"
      ],
      "execution_count": null,
      "outputs": [
        {
          "output_type": "execute_result",
          "data": {
            "application/vnd.google.colaboratory.intrinsic+json": {
              "type": "string"
            },
            "text/plain": [
              "'()(())()'"
            ]
          },
          "metadata": {
            "tags": []
          },
          "execution_count": 68
        }
      ]
    },
    {
      "cell_type": "markdown",
      "metadata": {
        "id": "2kBJ26fq9uUp"
      },
      "source": [
        "### **연산자 끼워 넣기**"
      ]
    },
    {
      "cell_type": "code",
      "metadata": {
        "id": "IyYqzPJp9x0P"
      },
      "source": [
        "def calculate(num1,num2,sign):\n",
        "  if sign=='+':\n",
        "    return num1+num2\n",
        "  elif sign=='-':\n",
        "    return num1-num2\n",
        "  elif sign== '*':\n",
        "    return num1*num2\n",
        "  else:\n",
        "    if num1>=0:\n",
        "      return num1//num2\n",
        "    else:\n",
        "      return -(-num1//num2)"
      ],
      "execution_count": null,
      "outputs": []
    },
    {
      "cell_type": "code",
      "metadata": {
        "id": "MIdygjW4_z12"
      },
      "source": [
        "from itertools import permutations\n",
        "def anw(num_arr,sign):\n",
        "  arr=['+','-','*','/']\n",
        "  sign_arr=[]\n",
        "  for i in range(4):\n",
        "    for j in range(sign[i]):\n",
        "      sign_arr.append(arr[i])\n",
        "  all_sign=list(permutations(sign_arr))\n",
        "  max_num=-10e9\n",
        "  min_num=10e9\n",
        "  for i in range(len(all_sign)):\n",
        "    num=num_arr[0]\n",
        "    for j in range(len(all_sign[0])):\n",
        "      num=calculate(num,num_arr[j+1],all_sign[i][j])\n",
        "    max_num=max(max_num,num)\n",
        "    min_num=min(min_num,num)\n",
        "\n",
        "  return max_num,min_num"
      ],
      "execution_count": null,
      "outputs": []
    },
    {
      "cell_type": "code",
      "metadata": {
        "colab": {
          "base_uri": "https://localhost:8080/"
        },
        "id": "DXrtRe-d9yDj",
        "outputId": "03de62c4-0eae-418c-a84a-cf9f391acdd2"
      },
      "source": [
        "num=[5,6]\n",
        "sign=[0,0,1,0]\n",
        "anw(num,sign)"
      ],
      "execution_count": null,
      "outputs": [
        {
          "output_type": "execute_result",
          "data": {
            "text/plain": [
              "(30, 30)"
            ]
          },
          "metadata": {
            "tags": []
          },
          "execution_count": 38
        }
      ]
    },
    {
      "cell_type": "code",
      "metadata": {
        "colab": {
          "base_uri": "https://localhost:8080/"
        },
        "id": "VA_O3VajC_xN",
        "outputId": "b3abb474-a158-4742-d2cf-6028d739fb07"
      },
      "source": [
        "num=[3,4,5]\n",
        "sign=[1,0,1,0]\n",
        "anw(num,sign)"
      ],
      "execution_count": null,
      "outputs": [
        {
          "output_type": "execute_result",
          "data": {
            "text/plain": [
              "(35, 17)"
            ]
          },
          "metadata": {
            "tags": []
          },
          "execution_count": 39
        }
      ]
    },
    {
      "cell_type": "code",
      "metadata": {
        "colab": {
          "base_uri": "https://localhost:8080/"
        },
        "id": "U5UaQsJIC_nF",
        "outputId": "48b74721-b324-4395-b89f-4377946fe4f9"
      },
      "source": [
        "num=[1,2,3,4,5,6]\n",
        "sign=[2,1,1,1]\n",
        "anw(num,sign)"
      ],
      "execution_count": null,
      "outputs": [
        {
          "output_type": "execute_result",
          "data": {
            "text/plain": [
              "(54, -24)"
            ]
          },
          "metadata": {
            "tags": []
          },
          "execution_count": 40
        }
      ]
    },
    {
      "cell_type": "markdown",
      "metadata": {
        "id": "Ev5KMxn0mI1t"
      },
      "source": [
        "### **감시 피하기**"
      ]
    },
    {
      "cell_type": "code",
      "metadata": {
        "id": "xdv8YY7lmM6c"
      },
      "source": [
        "def check(wall_graph,teacher_arr,student_arr,N):\n",
        "  dr=[-1,1,0,0]\n",
        "  dc=[0,0,-1,1]\n",
        "  teacher_show=[]\n",
        "  for i in teacher_arr:\n",
        "    nr,nc=i[0],i[1]\n",
        "    for j in range(4):\n",
        "      while True:\n",
        "        nr=nr+dr[j]\n",
        "        nc=nc+dc[j]\n",
        "        if nr>=0 and nr<N and nc>=0 and nr<N and [nr,nc] not in wall_graph:\n",
        "          teacher_show.append([nr,nc])\n",
        "        else:\n",
        "          break\n",
        "  for g in student_arr:\n",
        "    if g in teacher_show:\n",
        "      return False\n",
        "  return True    "
      ],
      "execution_count": null,
      "outputs": []
    },
    {
      "cell_type": "code",
      "metadata": {
        "id": "zdIsI4MiWRdT"
      },
      "source": [
        "def find_place(graph):\n",
        "  teacher_arr,student_arr,empty=[],[],[]\n",
        "  for i in range(len(graph)):\n",
        "    for j in range(len(graph)):\n",
        "      if graph[i][j]=='S':\n",
        "        student_arr.append([i,j])\n",
        "      elif graph[i][j]=='T':\n",
        "        teacher_arr.append([i,j])\n",
        "      else:\n",
        "        empty.append([i,j])\n",
        "  return student_arr,teacher_arr,empty"
      ],
      "execution_count": null,
      "outputs": []
    },
    {
      "cell_type": "code",
      "metadata": {
        "id": "4C7OxOinWq_9"
      },
      "source": [
        "from itertools import combinations\n",
        "def anw(graph):\n",
        "  teacher_arr,student_arr,empty_arr=find_place(graph)\n",
        "  combi=list(combinations(empty_arr,3))\n",
        "  for i in combi:\n",
        "    wall_arr=[j for j in i]\n",
        "    boolen=check(wall_arr,teacher_arr,student_arr,len(graph))\n",
        "    if boolen==True:\n",
        "      return 'Yes'\n",
        "  return 'No'"
      ],
      "execution_count": null,
      "outputs": []
    },
    {
      "cell_type": "code",
      "metadata": {
        "colab": {
          "base_uri": "https://localhost:8080/",
          "height": 35
        },
        "id": "FudXobQvbi_J",
        "outputId": "aaf47c0e-239e-4c7f-d085-dd8b2ca99383"
      },
      "source": [
        "graph=[['X','S','X','X','T'],\n",
        "       ['T','X','S','X','X'],\n",
        "       ['X','X','X','X','X'],\n",
        "       ['X','T','X','X','X'],\n",
        "       ['X','X','T','X','X']]\n",
        "anw(graph)"
      ],
      "execution_count": null,
      "outputs": [
        {
          "output_type": "execute_result",
          "data": {
            "application/vnd.google.colaboratory.intrinsic+json": {
              "type": "string"
            },
            "text/plain": [
              "'Yes'"
            ]
          },
          "metadata": {
            "tags": []
          },
          "execution_count": 104
        }
      ]
    },
    {
      "cell_type": "markdown",
      "metadata": {
        "id": "yhygpEGInwqr"
      },
      "source": [
        "### **인구이동**"
      ]
    },
    {
      "cell_type": "code",
      "metadata": {
        "id": "CFg52QSHnyqn"
      },
      "source": [
        "from collections import deque\n",
        "\n",
        "def move(graph,L,R,start,visited):\n",
        "  visited[start[0]][start[1]]=True\n",
        "  dr=[-1,1,0,0]\n",
        "  dc=[0,0,-1,1]\n",
        "  move_arr=[start]\n",
        "  queue=deque()\n",
        "  queue.append(start)\n",
        "  while queue:\n",
        "    r,c=queue.popleft()\n",
        "    for i in range(4):\n",
        "      nr=r+dr[i]\n",
        "      nc=c+dc[i]\n",
        "      f nr>=0 and nr<len(graph) and nc>=0 and nc<len(graph[0]) and visited[nr][nc]==False and abs(graph[r][c]-graph[nr][nc])>=L and abs(graph[r][c]-graph[nr][nc])<=R:\n",
        "        visited[nr][nc]=True\n",
        "        move_arr.append([nr,nc])i\n",
        "        queue.append([nr,nc])\n",
        "  return move_arr"
      ],
      "execution_count": null,
      "outputs": []
    },
    {
      "cell_type": "code",
      "metadata": {
        "id": "bnm8-GEMuJYZ"
      },
      "source": [
        "def anw(graph,L,R):\n",
        "  moving=0\n",
        "  while True:\n",
        "    all_arr=[]\n",
        "    count=0\n",
        "    visited=[[i]*len(graph) for i in [False]*len(graph)]\n",
        "    for i in range(len(graph)):\n",
        "      for j in range(len(graph[0])):      \n",
        "        arr=move(graph,L,R,[i,j],visited)\n",
        "        if len(arr)>1:\n",
        "          all_arr.append(arr)\n",
        "    if len(all_arr)==0:\n",
        "      break\n",
        "    for i in all_arr:\n",
        "      sum_num=0\n",
        "      for j in i:\n",
        "        sum_num+=graph[j[0]][j[1]]\n",
        "      for h in i:\n",
        "        graph[h[0]][h[1]]=sum_num//len(i)\n",
        "        count+1\n",
        "    moving+=1  \n",
        "  return moving"
      ],
      "execution_count": null,
      "outputs": []
    },
    {
      "cell_type": "code",
      "metadata": {
        "colab": {
          "base_uri": "https://localhost:8080/"
        },
        "id": "TizGyGpBqjDP",
        "outputId": "7e110e54-4dc2-4c60-bfbd-f94e4d7e76ea"
      },
      "source": [
        "L,R=5,10\n",
        "graph=[[10,15,20],\n",
        "       [20,30,25],\n",
        "       [40,22,10]]\n",
        "anw(graph,L,R)"
      ],
      "execution_count": null,
      "outputs": [
        {
          "output_type": "execute_result",
          "data": {
            "text/plain": [
              "2"
            ]
          },
          "metadata": {
            "tags": []
          },
          "execution_count": 8
        }
      ]
    },
    {
      "cell_type": "code",
      "metadata": {
        "colab": {
          "base_uri": "https://localhost:8080/"
        },
        "id": "u_nu4Qe4wd5o",
        "outputId": "a61b6b1d-b141-47dd-d36b-b9d5aaaa30e9"
      },
      "source": [
        "graph=[[10,100,20,90],\n",
        "       [80,100,60,70],\n",
        "       [70,20,30,40],\n",
        "       [50,20,100,10]]\n",
        "L,R=10,50\n",
        "anw(graph,L,R)"
      ],
      "execution_count": null,
      "outputs": [
        {
          "output_type": "execute_result",
          "data": {
            "text/plain": [
              "3"
            ]
          },
          "metadata": {
            "tags": []
          },
          "execution_count": 9
        }
      ]
    },
    {
      "cell_type": "code",
      "metadata": {
        "id": "MEEDLFVVJRJy"
      },
      "source": [
        ""
      ],
      "execution_count": null,
      "outputs": []
    },
    {
      "cell_type": "markdown",
      "metadata": {
        "id": "Zm1KEiWKaEsK"
      },
      "source": [
        "### **블록 이동하기**"
      ]
    },
    {
      "cell_type": "code",
      "metadata": {
        "id": "1FZ2y5BdaHxs"
      },
      "source": [
        "def dfs(graph,robot,end,count):\n",
        "  if robot[1][0]>=len(graph[0]) or robot[1][1]>=len(graph) or graph[robot[0][0]][robot[0][1]]==1 or graph[robot[1][0]][robot[1][1]]==1:\n",
        "    return False\n",
        "  dfs(graph,[[robot[0][0]+1,robot[0][1]],[robot[1][0]+1,robot[1][1]]],end,count+1)\n",
        "  dfs(graph,[[robot[0][0],robot[0][1]+1],[robot[1][0],robot[1][1]+1]],end,count+1)\n",
        "  if robot[0][0]<len(graph)-1 and  robot[0][0]==robot[1][0] and graph[robot[0][0]+1][robot[0][1]] != 1:\n",
        "    dfs(graph,[[robot[0][0],robot[0][1]+1],[robot[1][0]+1,robot[1][1]]],end,count+1)\n",
        "  if robot[0][1]<len(graph[0])-1 and robot[0][1]==robot[1][1] and graph[robot[0][0]][robot[0][1]+1] != 1:\n",
        "    dfs(graph,[[robot[0][0]+1,robot[0][1]],[robot[1][0],robot[1][1]+1]],end,count+1)\n",
        "  if robot[1]==end:\n",
        "    graph[len(graph)-1][len(graph[0])-1]=min(count,graph[len(graph)-1][len(graph[0])-1])"
      ],
      "execution_count": null,
      "outputs": []
    },
    {
      "cell_type": "code",
      "metadata": {
        "colab": {
          "base_uri": "https://localhost:8080/"
        },
        "id": "3YN94xrnGtD8",
        "outputId": "cf60dabc-c17e-42fa-88d4-98ac3358fa3b"
      },
      "source": [
        "graph=[[0,0,0,1,1],\n",
        "       [0,0,0,1,0],\n",
        "       [0,1,0,1,1],\n",
        "       [1,1,0,0,1],\n",
        "       [0,0,0,0,0]]\n",
        "graph[len(graph)-1][len(graph[0])-1]=10e9\n",
        "dfs(graph,[[0,0],[0,1]],[4,4],0)\n",
        "print(graph[len(graph)-1][len(graph[0])-1])"
      ],
      "execution_count": null,
      "outputs": [
        {
          "output_type": "stream",
          "text": [
            "7\n"
          ],
          "name": "stdout"
        }
      ]
    },
    {
      "cell_type": "markdown",
      "metadata": {
        "id": "pDQPls0ZD0Py"
      },
      "source": [
        "### **촌수 계산**"
      ]
    },
    {
      "cell_type": "code",
      "metadata": {
        "id": "CLWQbF0JFfyK"
      },
      "source": [
        "def make_graph(arr,n):\n",
        "  graph=[[] for _ in range(n+1)]\n",
        "  for i in arr:\n",
        "    graph[i[1]].append(i[0])\n",
        "  return graph"
      ],
      "execution_count": null,
      "outputs": []
    },
    {
      "cell_type": "code",
      "metadata": {
        "id": "hr5wTnDjD2VT"
      },
      "source": [
        "def dfs(arr,anw,choose,num,visited):\n",
        "  if anw==choose:\n",
        "    return abs(num)\n",
        "  visited[choose]=True\n",
        "  for i in arr:\n",
        "    if i[0]==choose and visited[i[1]]==False:\n",
        "      return dfs(arr,anw,i[1],num+1,visited)\n",
        "    if i[1]==choose and visited[i[0]]==False:\n",
        "      return dfs(arr,anw,i[0],num+1,visited)"
      ],
      "execution_count": null,
      "outputs": []
    },
    {
      "cell_type": "code",
      "metadata": {
        "colab": {
          "base_uri": "https://localhost:8080/"
        },
        "id": "MUciPnDRFzXn",
        "outputId": "528acecb-0083-47c7-d6e7-9db0efe2cf93"
      },
      "source": [
        "n=9\n",
        "arr=[[1,2],[1,3],[2,7],[2,8],[2,9],[4,5],[4,6]]\n",
        "visited=[False for _ in range(n+1)]\n",
        "dfs(arr,3,7,0,visited)"
      ],
      "execution_count": null,
      "outputs": [
        {
          "output_type": "execute_result",
          "data": {
            "text/plain": [
              "3"
            ]
          },
          "metadata": {
            "tags": []
          },
          "execution_count": 62
        }
      ]
    },
    {
      "cell_type": "code",
      "metadata": {
        "id": "ZSgHouNGII-R"
      },
      "source": [
        "dfs(graph,)"
      ],
      "execution_count": null,
      "outputs": []
    },
    {
      "cell_type": "markdown",
      "metadata": {
        "id": "2gTH_u2wihyI"
      },
      "source": [
        "## **정렬**"
      ]
    },
    {
      "cell_type": "markdown",
      "metadata": {
        "id": "NcHw9p82imWl"
      },
      "source": [
        "### **퀵 정렬**"
      ]
    },
    {
      "cell_type": "code",
      "metadata": {
        "colab": {
          "base_uri": "https://localhost:8080/"
        },
        "id": "od-yM3icikag",
        "outputId": "2db5ada2-49c8-4958-c4de-1a8f43e3687b"
      },
      "source": [
        "def quick_sort(array,start,end):\n",
        "  #원소 1개이면 종료\n",
        "  if start>=end:\n",
        "    return\n",
        "  pivot=start\n",
        "  left=start+1\n",
        "  right=end\n",
        "  while left<=right:\n",
        "    while left<=end and array[left]<=array[pivot]:\n",
        "      left+=1\n",
        "    while right>start and array[right]>=array[pivot]:\n",
        "      right-=1\n",
        "    if left>right:\n",
        "      array[right],array[pivot]=array[pivot],array[right]\n",
        "    else:\n",
        "      array[left],array[right]=array[right],array[left]\n",
        "    \n",
        "  quick_sort(array,start,right-1)\n",
        "  quick_sort(array,right+1,end)\n",
        "\n",
        "\n",
        "array=[5,7,9,0,3,1,6,2,4,8]\n",
        "\n",
        "quick_sort(array,0,len(array)-1)\n",
        "print(array)"
      ],
      "execution_count": null,
      "outputs": [
        {
          "output_type": "stream",
          "text": [
            "[0, 1, 2, 3, 4, 5, 6, 7, 8, 9]\n"
          ],
          "name": "stdout"
        }
      ]
    },
    {
      "cell_type": "markdown",
      "metadata": {
        "id": "mNYf7dtLp1Bk"
      },
      "source": [
        "### **계수 정렬**"
      ]
    },
    {
      "cell_type": "code",
      "metadata": {
        "colab": {
          "base_uri": "https://localhost:8080/"
        },
        "id": "6CD-t6YwkAxk",
        "outputId": "021e1770-db28-4dc5-b5ed-f119d153c30b"
      },
      "source": [
        "def co_array(array):\n",
        "  count=[0]*(max(array)+1)\n",
        "  for i in array:\n",
        "    count[i]+=1\n",
        "  print(count)\n",
        "  for j in range(max(array)+1):\n",
        "    print((str(j)+' ')*count[j],end= '')\n",
        "\n",
        "array=[7,5,9,0,3,1,6,2,9,1,4,8,0,5,2]\n",
        "co_array(array)"
      ],
      "execution_count": null,
      "outputs": [
        {
          "output_type": "stream",
          "text": [
            "[2, 2, 2, 1, 1, 2, 1, 1, 1, 2]\n",
            "0 0 1 1 2 2 3 4 5 5 6 7 8 9 9 "
          ],
          "name": "stdout"
        }
      ]
    },
    {
      "cell_type": "code",
      "metadata": {
        "colab": {
          "base_uri": "https://localhost:8080/"
        },
        "id": "C2n_ud43qRt1",
        "outputId": "74a3d076-ebe8-4103-9762-91d5eebb8a6f"
      },
      "source": [
        "count=[0]*10\n",
        "count"
      ],
      "execution_count": null,
      "outputs": [
        {
          "output_type": "execute_result",
          "data": {
            "text/plain": [
              "[0, 0, 0, 0, 0, 0, 0, 0, 0, 0]"
            ]
          },
          "metadata": {
            "tags": []
          },
          "execution_count": 4
        }
      ]
    },
    {
      "cell_type": "code",
      "metadata": {
        "id": "kgZn18eMqUEd"
      },
      "source": [
        ""
      ],
      "execution_count": null,
      "outputs": []
    },
    {
      "cell_type": "markdown",
      "metadata": {
        "id": "yp4SlxakTitR"
      },
      "source": [
        "### **위에서 아래로**"
      ]
    },
    {
      "cell_type": "code",
      "metadata": {
        "id": "QCtHHG90Tn48"
      },
      "source": [
        "n=int(input())\n",
        "arr=[]\n",
        "for i in range(n):\n",
        "  num=int(input())\n",
        "  arr.append(num)\n",
        "\n",
        "arr=sorted(arr,reverse=True)\n",
        "\n",
        "for i in arr:\n",
        "  print(i,end='')"
      ],
      "execution_count": null,
      "outputs": []
    },
    {
      "cell_type": "code",
      "metadata": {
        "colab": {
          "base_uri": "https://localhost:8080/"
        },
        "id": "4acU0rbRTnzU",
        "outputId": "9017624e-48fa-4c61-b844-0adca034d19b"
      },
      "source": [
        "n=int(input())\n",
        "dic={}\n",
        "for i in range(n):\n",
        "  info=list(map(str,input().split()))\n",
        "  dic[info[0]]=int(info[1])\n",
        "print(dic)\n",
        "dic=dict(sorted(dic.items(), key=lambda x : x[1]))\n",
        "print(dic)\n",
        "for key, value in dic.items():\n",
        "  print(key,end=' ')"
      ],
      "execution_count": null,
      "outputs": [
        {
          "output_type": "stream",
          "text": [
            "2\n",
            "홍길동 95\n",
            "이순신 77\n",
            "{'홍길동': 95, '이순신': 77}\n",
            "{'이순신': 77, '홍길동': 95}\n",
            "이순신 홍길동 "
          ],
          "name": "stdout"
        }
      ]
    },
    {
      "cell_type": "code",
      "metadata": {
        "colab": {
          "base_uri": "https://localhost:8080/"
        },
        "id": "_vp1vDgKYrdT",
        "outputId": "2060d15f-2acf-4cb8-f336-7c0c38e2a512"
      },
      "source": [
        "#key값 없애고 value만 남겨서 입력\n",
        "\n",
        "n=int(input())\n",
        "dic={}\n",
        "for i in range(n):\n",
        "  info=list(map(str,input().split()))\n",
        "  dic[info[0]]=int(info[1])\n",
        "dic=sorted(dic.keys())\n",
        "print(dic)\n",
        "for key in dic:\n",
        "  print(key,end=' ')"
      ],
      "execution_count": null,
      "outputs": [
        {
          "output_type": "stream",
          "text": [
            "2\n",
            "홍길동 95\n",
            "이순신 77\n",
            "['이순신', '홍길동']\n",
            "이순신 홍길동 "
          ],
          "name": "stdout"
        }
      ]
    },
    {
      "cell_type": "markdown",
      "metadata": {
        "id": "EFrFOBHzKJZi"
      },
      "source": [
        "### **두 배열의 원소 교체**"
      ]
    },
    {
      "cell_type": "code",
      "metadata": {
        "colab": {
          "base_uri": "https://localhost:8080/"
        },
        "id": "d481BPMbKOZn",
        "outputId": "9660e376-08ea-40ab-9cce-b214e21f9755"
      },
      "source": [
        "def change(A,B,K):\n",
        "  A=sorted(A)\n",
        "  B=sorted(B,reverse=True)\n",
        "  for i in range(N):\n",
        "    if A[i]<B[i]:\n",
        "      A[i]=B[i]\n",
        "    else:\n",
        "      break\n",
        "  return sum(A)\n",
        "\n",
        "\n",
        "N,K=map(int,input().split())\n",
        "A=list(map(int,input().split()))\n",
        "B=list(map(int,input().split()))\n",
        "\n",
        "change(A,B,K)"
      ],
      "execution_count": null,
      "outputs": [
        {
          "output_type": "stream",
          "text": [
            "5 3\n",
            "1 2 5 4 3\n",
            "5 5 6 6 5\n"
          ],
          "name": "stdout"
        },
        {
          "output_type": "execute_result",
          "data": {
            "text/plain": [
              "26"
            ]
          },
          "metadata": {
            "tags": []
          },
          "execution_count": 5
        }
      ]
    },
    {
      "cell_type": "markdown",
      "metadata": {
        "id": "mYOQeOqbOwOj"
      },
      "source": [
        "### **부품 찾기**"
      ]
    },
    {
      "cell_type": "code",
      "metadata": {
        "colab": {
          "base_uri": "https://localhost:8080/"
        },
        "id": "QLqBRE6vP_nr",
        "outputId": "256f5c42-69fc-4dce-d5b3-77c513aee5ef"
      },
      "source": [
        "#이진 탐색\n",
        "def choose(A,target,start,end):\n",
        "  arr=[]\n",
        "  while start<=end:\n",
        "    mid=(start+end)//2\n",
        "    if A[mid]==target:\n",
        "      return 'yes'\n",
        "    elif A[mid]>i:\n",
        "      end=mid-1\n",
        "    elif A[mid]<i:\n",
        "      start=mid+1\n",
        "    else:\n",
        "      choose(A,target,start,end)\n",
        "  return 'no'\n",
        "\n",
        "\n",
        "A=[8,3,7,9,2]\n",
        "B=[5,7,9]\n",
        "for i in B:\n",
        "  print(choose(A,i,0,len(A)-1),end=' ')"
      ],
      "execution_count": null,
      "outputs": [
        {
          "output_type": "stream",
          "text": [
            "no yes yes "
          ],
          "name": "stdout"
        }
      ]
    },
    {
      "cell_type": "code",
      "metadata": {
        "id": "e0fXTLYLP_hP"
      },
      "source": [
        "  "
      ],
      "execution_count": null,
      "outputs": []
    },
    {
      "cell_type": "code",
      "metadata": {
        "colab": {
          "base_uri": "https://localhost:8080/"
        },
        "id": "cxZl__eFKOWp",
        "outputId": "0a4aa467-b26d-46a2-f99d-fdba8abcdb17"
      },
      "source": [
        "#집합 자료형 이용\n",
        "def choose(A,B):\n",
        "  arr=[]\n",
        "  for i in B:\n",
        "    if i not in A:\n",
        "      arr.append('no')\n",
        "    else:\n",
        "      arr.append('yes')\n",
        "  return arr\n",
        "\n",
        "N=int(input())\n",
        "A=list(map(int,input().split()))\n",
        "M=int(input())\n",
        "B=list(map(int,input().split()))\n",
        "\n",
        "arr=choose(A,B)\n",
        "for i in arr:\n",
        "  print(i,end=' ')"
      ],
      "execution_count": null,
      "outputs": [
        {
          "output_type": "stream",
          "text": [
            "5\n",
            "8 3 7 9 2\n",
            "3\n",
            "5 7 9\n"
          ],
          "name": "stdout"
        },
        {
          "output_type": "execute_result",
          "data": {
            "text/plain": [
              "['no', 'yes', 'yes']"
            ]
          },
          "metadata": {
            "tags": []
          },
          "execution_count": 6
        }
      ]
    },
    {
      "cell_type": "markdown",
      "metadata": {
        "id": "ZY3mloeRThtS"
      },
      "source": [
        "### **떡볶이 떡 만들기**"
      ]
    },
    {
      "cell_type": "code",
      "metadata": {
        "colab": {
          "base_uri": "https://localhost:8080/"
        },
        "id": "PwB4-0wgbzGi",
        "outputId": "1cd8b9bb-6c19-4463-ab0e-ff5d96c6d402"
      },
      "source": [
        "def cut(L,H):\n",
        "  if L>H:\n",
        "    return L-H\n",
        "  else:\n",
        "    return 0\n",
        "def sum(arr,H):\n",
        "  s=0\n",
        "  for i in range(len(arr)):\n",
        "    s=s+cut(arr[i],H)\n",
        "  return s\n",
        "\n",
        "def height(arr,M,H):\n",
        "  while True:\n",
        "    a=sum(arr,H)\n",
        "    if a<=M:\n",
        "      H=H-1\n",
        "    else:\n",
        "      H=H+1\n",
        "      return H\n",
        "\n",
        "arr=sorted(arr)\n",
        "H=arr[-1]\n",
        "print(height(arr,M,H))"
      ],
      "execution_count": null,
      "outputs": [
        {
          "output_type": "stream",
          "text": [
            "15\n"
          ],
          "name": "stdout"
        }
      ]
    },
    {
      "cell_type": "code",
      "metadata": {
        "colab": {
          "base_uri": "https://localhost:8080/"
        },
        "id": "e1Q9E0SAKOUh",
        "outputId": "b4cd7b14-16cd-43ed-caf7-ef74d9d9b111"
      },
      "source": [
        "def cut(L,H):\n",
        "  if L>H:\n",
        "    return L-H\n",
        "  else:\n",
        "    return 0\n",
        "\n",
        "def height(arr,M,H):\n",
        "  sum=0\n",
        "  for i in range(len(arr)):\n",
        "    sum=sum+cut(arr[i],H)\n",
        "  if sum<=M:\n",
        "    H=height(arr,M,H-1)\n",
        "  else:\n",
        "    H=H+1\n",
        "  return H\n",
        "\n",
        "N,M=4,6\n",
        "arr=[10,15,17,19]\n",
        "\n",
        "arr=sorted(arr)\n",
        "H=arr[-1]\n",
        "print(height(arr,M,H))"
      ],
      "execution_count": null,
      "outputs": [
        {
          "output_type": "stream",
          "text": [
            "None\n"
          ],
          "name": "stdout"
        }
      ]
    },
    {
      "cell_type": "code",
      "metadata": {
        "colab": {
          "base_uri": "https://localhost:8080/"
        },
        "id": "6RCaOIfbdWOY",
        "outputId": "028f91ac-4925-4246-983b-d430b28aea53"
      },
      "source": [
        "#왜 재귀는 return 값이 none이지?\n",
        "\n",
        "\n",
        "def cut(L,H):\n",
        "  if L>H:\n",
        "    return L-H\n",
        "  else:\n",
        "    return 0\n",
        "\n",
        "def height(arr,M,H):\n",
        "  sum=0\n",
        "  for i in range(len(arr)):\n",
        "    sum=sum+cut(arr[i],H)\n",
        "  if sum<=M:\n",
        "    return height(arr,M,H-1)\n",
        "  else:\n",
        "    H=H+1\n",
        "    return H\n",
        "\n",
        "N,M=4,6\n",
        "arr=[10,15,17,19]\n",
        "\n",
        "arr=sorted(arr)\n",
        "H=arr[-1]\n",
        "print(height(arr,M,H))\n"
      ],
      "execution_count": null,
      "outputs": [
        {
          "output_type": "stream",
          "name": "stdout",
          "text": [
            "15\n"
          ]
        }
      ]
    },
    {
      "cell_type": "code",
      "metadata": {
        "id": "QFR7stS2VWxT"
      },
      "source": [
        "N,M=map(int,input().split())\n",
        "arr=list(map(int,input().split()))"
      ],
      "execution_count": null,
      "outputs": []
    },
    {
      "cell_type": "code",
      "metadata": {
        "colab": {
          "base_uri": "https://localhost:8080/"
        },
        "id": "hJDe4rXsZ1c1",
        "outputId": "e4899f99-7b08-4586-a083-ca0583d02a49"
      },
      "source": [
        "a=''\n",
        "len(a)"
      ],
      "execution_count": null,
      "outputs": [
        {
          "output_type": "execute_result",
          "data": {
            "text/plain": [
              "0"
            ]
          },
          "metadata": {
            "tags": []
          },
          "execution_count": 12
        }
      ]
    },
    {
      "cell_type": "code",
      "metadata": {
        "id": "VDQriqxdHlGQ"
      },
      "source": [
        ""
      ],
      "execution_count": null,
      "outputs": []
    },
    {
      "cell_type": "markdown",
      "metadata": {
        "id": "f0H6Klp_YZKV"
      },
      "source": [
        "### **알고스팟**"
      ]
    },
    {
      "cell_type": "code",
      "metadata": {
        "id": "XX14pf4pYcMl"
      },
      "source": [
        "def bfs(graph,i,j,num):\n",
        "  if graph[i][j]==1:\n",
        "    num+=1\n",
        "  if i<n-1 and j<m-1:\n",
        "    return min(bfs(graph,i+1,j,num),bfs(graph,i,j+1,num))\n",
        "  elif i==n-1 and j<m-1:\n",
        "    return bfs(graph,i,j+1,num)\n",
        "  elif i<n-1 and j==m-1:\n",
        "    return bfs(graph,i+1,j,num)\n",
        "  else: \n",
        "    return num\n",
        "\n"
      ],
      "execution_count": null,
      "outputs": []
    },
    {
      "cell_type": "code",
      "metadata": {
        "colab": {
          "base_uri": "https://localhost:8080/"
        },
        "id": "_n1o7RT7anz_",
        "outputId": "ef81328f-c2e6-442b-f2e7-3e59c66d755f"
      },
      "source": [
        "n,m=map(int,input().split())\n",
        "graph=[]\n",
        "for i in range(n):\n",
        "  graph.append(list(map(int,input())))\n",
        "print(bfs(graph,0,0,0))"
      ],
      "execution_count": null,
      "outputs": [
        {
          "output_type": "stream",
          "text": [
            "3 3\n",
            "011\n",
            "111\n",
            "110\n",
            "3\n"
          ],
          "name": "stdout"
        }
      ]
    },
    {
      "cell_type": "code",
      "metadata": {
        "id": "wENT3gBVcajM"
      },
      "source": [
        "graph=[False]*10000\n",
        "def bfs2(graph,start,K,time):\n",
        "  if graph[start]==False:\n",
        "    graph[start]=time\n",
        "  else:\n",
        "    graph[time]=min(graph[time],time)\n",
        "  print(start)\n",
        "  if start==K:\n",
        "    return time\n",
        "  elif start<1:\n",
        "    return min(bfs2(graph,start+1,K,time+1),bfs2(graph,start*2,K,time))\n",
        "  else:\n",
        "    return min(bfs2(graph,start-1,K,time+1),bfs2(graph,start+1,K,time+1),bfs2(graph,start*2,K,time))\n",
        "  \n"
      ],
      "execution_count": null,
      "outputs": []
    },
    {
      "cell_type": "code",
      "metadata": {
        "id": "zB15Y8f7fRs-"
      },
      "source": [
        "bfs2(graph,5,17,0)"
      ],
      "execution_count": null,
      "outputs": []
    },
    {
      "cell_type": "code",
      "metadata": {
        "id": "y-mo0lFagyNY"
      },
      "source": [
        ""
      ],
      "execution_count": null,
      "outputs": []
    },
    {
      "cell_type": "markdown",
      "metadata": {
        "id": "Srq3EKF88CYR"
      },
      "source": [
        "### **수 정렬하기**"
      ]
    },
    {
      "cell_type": "code",
      "metadata": {
        "id": "VFCmB4lx8G24"
      },
      "source": [
        "#수 정렬하기 1\n",
        "def sort_1(arr):\n",
        "  arr=sorted(arr)\n",
        "  for i in arr:\n",
        "    print(i,end=' ')"
      ],
      "execution_count": null,
      "outputs": []
    },
    {
      "cell_type": "code",
      "metadata": {
        "id": "870rcStQ8gJn"
      },
      "source": [
        "#수 정렬하기 2\n",
        "def sort_2(arr):\n",
        "  arr=set(sorted(arr))\n",
        "  for i in arr:\n",
        "    print(i,end=' ')"
      ],
      "execution_count": null,
      "outputs": []
    },
    {
      "cell_type": "code",
      "metadata": {
        "id": "dhfSwqJW9T3U"
      },
      "source": [
        "#수 정렬하기 3\n",
        "def sort_3(arr):\n",
        "  count=[0]*(max(arr)+1)\n",
        "  for i in arr:\n",
        "    count[i]+=1\n",
        "  for j in range(len(count)):\n",
        "    for h in range(count[j]):\n",
        "      print(j,end=' ')\n",
        "\n"
      ],
      "execution_count": null,
      "outputs": []
    },
    {
      "cell_type": "code",
      "metadata": {
        "colab": {
          "base_uri": "https://localhost:8080/"
        },
        "id": "PqBpr5BJ8HW8",
        "outputId": "a1969d5e-e71c-44be-8316-6994814db090"
      },
      "source": [
        "arr=[5,5,2,3,4,1]\n",
        "sort_1(arr)"
      ],
      "execution_count": null,
      "outputs": [
        {
          "output_type": "stream",
          "text": [
            "1 2 3 4 5 5 "
          ],
          "name": "stdout"
        }
      ]
    },
    {
      "cell_type": "code",
      "metadata": {
        "colab": {
          "base_uri": "https://localhost:8080/"
        },
        "id": "mXU9I7L78vB6",
        "outputId": "987289ed-6b44-4b84-cc5b-c0c0f73a2b1b"
      },
      "source": [
        "arr=[5,5,4,3,2,1]\n",
        "sort_2(arr)"
      ],
      "execution_count": null,
      "outputs": [
        {
          "output_type": "stream",
          "text": [
            "1 2 3 4 5 "
          ],
          "name": "stdout"
        }
      ]
    },
    {
      "cell_type": "code",
      "metadata": {
        "colab": {
          "base_uri": "https://localhost:8080/"
        },
        "id": "WubTdMYS9rCp",
        "outputId": "f786ec5d-2e37-4dec-ff3f-43ba5c988d32"
      },
      "source": [
        "arr=[5,2,3,1,4,2,3,5,1,7]\n",
        "sort_3(arr)"
      ],
      "execution_count": null,
      "outputs": [
        {
          "output_type": "stream",
          "text": [
            "1 1 2 2 3 3 4 5 5 7 "
          ],
          "name": "stdout"
        }
      ]
    },
    {
      "cell_type": "markdown",
      "metadata": {
        "id": "gtwMSSYQ-mK2"
      },
      "source": [
        "### **통계학**"
      ]
    },
    {
      "cell_type": "code",
      "metadata": {
        "id": "UXk0WIbK-oIz"
      },
      "source": [
        "class static:\n",
        "  def __init__(self,arr):\n",
        "    self.arr=arr\n",
        "  def avg(self):\n",
        "    return round(sum(self.arr)/len(self.arr),0)\n",
        "  def center(self):\n",
        "    arr_sort=sorted(self.arr)\n",
        "    return arr_sort[int(len(self.arr)/2)]\n",
        "  def num_range(self):\n",
        "    if len(self.arr)==0:\n",
        "      self.arr.append(0)\n",
        "    return max(self.arr)-min(self.arr)\n",
        "  def put_text(self):\n",
        "    print(self.avg())\n",
        "    print(self.center())\n",
        "    print(self.num_range())"
      ],
      "execution_count": null,
      "outputs": []
    },
    {
      "cell_type": "code",
      "metadata": {
        "colab": {
          "base_uri": "https://localhost:8080/"
        },
        "id": "0XjbZy9t_aCp",
        "outputId": "cda2f45c-720a-4ee1-bf3c-0aa0df4460b0"
      },
      "source": [
        "arr=[1,3,8,-2,2]\n",
        "c=static(arr)\n",
        "c.put_text()"
      ],
      "execution_count": null,
      "outputs": [
        {
          "output_type": "stream",
          "text": [
            "2.0\n",
            "2\n",
            "10\n"
          ],
          "name": "stdout"
        }
      ]
    },
    {
      "cell_type": "markdown",
      "metadata": {
        "id": "_dNVkkotHsCo"
      },
      "source": [
        "### **국영수**"
      ]
    },
    {
      "cell_type": "code",
      "metadata": {
        "colab": {
          "base_uri": "https://localhost:8080/"
        },
        "id": "VX5fe7AQHuJ9",
        "outputId": "14674f25-3e7f-486b-81bc-ac2e4908bdac"
      },
      "source": [
        "point={\"JunKyu\":[50,60,100],\n",
        "       'Sangkeun':[80,60,50],\n",
        "       'Sunyoung':[80,70,100],\n",
        "       'Soong':[50,60,100],\n",
        "       'Haebin':[50,60,100],\n",
        "       'Kangsoo':[60,80,100],\n",
        "       'Donghyuk':[80,60,100],\n",
        "       'Sei':[70,70,70],\n",
        "       'Wonseob':[70,70,90],\n",
        "       'Sanghyun':[70,70,80],\n",
        "       'nsj':[80,80,80],\n",
        "       'Taewhan':[50,60,90]}\n",
        "sorted(point.items(), key = lambda x : ((((-x[1][0]),x[1][1]),-x[1][2]),x[0]))"
      ],
      "execution_count": null,
      "outputs": [
        {
          "output_type": "execute_result",
          "data": {
            "text/plain": [
              "[('Taewhan', [50, 60, 90]),\n",
              " ('Soong', [50, 60, 100]),\n",
              " ('JunKyu', [50, 60, 100]),\n",
              " ('Haebin', [50, 60, 100]),\n",
              " ('Kangsoo', [60, 80, 100]),\n",
              " ('Sei', [70, 70, 70]),\n",
              " ('Sanghyun', [70, 70, 80]),\n",
              " ('Wonseob', [70, 70, 90]),\n",
              " ('nsj', [80, 80, 80]),\n",
              " ('Sunyoung', [80, 70, 100]),\n",
              " ('Sangkeun', [80, 60, 50]),\n",
              " ('Donghyuk', [80, 60, 100])]"
            ]
          },
          "metadata": {
            "tags": []
          },
          "execution_count": 64
        }
      ]
    },
    {
      "cell_type": "markdown",
      "metadata": {
        "id": "ru1LTN0ori2D"
      },
      "source": [
        "### **안테나**"
      ]
    },
    {
      "cell_type": "code",
      "metadata": {
        "id": "1MhvQJAyrk2-"
      },
      "source": [
        "import numpy as np\n",
        "def place(house):\n",
        "  return sorted(house)[len(house)//2]"
      ],
      "execution_count": null,
      "outputs": []
    },
    {
      "cell_type": "code",
      "metadata": {
        "colab": {
          "base_uri": "https://localhost:8080/"
        },
        "id": "QzRlDUI-sHGV",
        "outputId": "7c945a05-ef1a-4d65-c2ec-e8f914f07faf"
      },
      "source": [
        "home=[1,97,98,99,100]\n",
        "place(home)"
      ],
      "execution_count": null,
      "outputs": [
        {
          "output_type": "execute_result",
          "data": {
            "text/plain": [
              "98"
            ]
          },
          "metadata": {
            "tags": []
          },
          "execution_count": 23
        }
      ]
    },
    {
      "cell_type": "markdown",
      "metadata": {
        "id": "rDLPeNSUs8h4"
      },
      "source": [
        "### **실패율**"
      ]
    },
    {
      "cell_type": "code",
      "metadata": {
        "id": "Y8Tfwck1t_to"
      },
      "source": [
        "def fail(stage):\n",
        "  arr=dict(zip(list(map(lambda x: x+1, range(max(stage)))),[0 for i in range(max(stage))]))\n",
        "  for i in stage:\n",
        "    arr[i]+=1\n",
        "  for i in range(len(arr)-1):\n",
        "    arr[i+1]=arr[ i+1]/sum(list(arr.values())[i:])\n",
        "  del arr[max(stage)]\n",
        "  arr=sorted(arr.items(),key=lambda x : x[1],reverse=True)\n",
        "  answer=[i[0] for i in arr]\n",
        "  return answer"
      ],
      "execution_count": null,
      "outputs": []
    },
    {
      "cell_type": "code",
      "metadata": {
        "colab": {
          "base_uri": "https://localhost:8080/"
        },
        "id": "LDs6seObx9fj",
        "outputId": "aa20e2e5-dddb-4f22-ae17-2d3d07156588"
      },
      "source": [
        "stage=[2,1,2,6,2,4,3,3]\n",
        "fail(stage)"
      ],
      "execution_count": null,
      "outputs": [
        {
          "output_type": "execute_result",
          "data": {
            "text/plain": [
              "[3, 4, 2, 1, 5]"
            ]
          },
          "metadata": {
            "tags": []
          },
          "execution_count": 106
        }
      ]
    },
    {
      "cell_type": "markdown",
      "metadata": {
        "id": "Q9RIt7Ki2nsn"
      },
      "source": [
        "### **카드 정렬하기**"
      ]
    },
    {
      "cell_type": "code",
      "metadata": {
        "id": "ObKl19v32qYC"
      },
      "source": [
        "def sorting(arr):\n",
        "  arr=sorted(arr)\n",
        "  sum=arr[0]+arr[1]\n",
        "  for i in arr[2:]:\n",
        "    sum=sum*2+i\n",
        "  return sum"
      ],
      "execution_count": null,
      "outputs": []
    },
    {
      "cell_type": "code",
      "metadata": {
        "colab": {
          "base_uri": "https://localhost:8080/"
        },
        "id": "RxGtNfPw3Ovh",
        "outputId": "6502ee12-fa1d-4d9e-cffa-24341da91966"
      },
      "source": [
        "arr=[40,20,10]\n",
        "sorting(arr)"
      ],
      "execution_count": null,
      "outputs": [
        {
          "output_type": "execute_result",
          "data": {
            "text/plain": [
              "100"
            ]
          },
          "metadata": {
            "tags": []
          },
          "execution_count": 6
        }
      ]
    },
    {
      "cell_type": "markdown",
      "metadata": {
        "id": "aRbiPp5Y7Nvc"
      },
      "source": [
        "## **이진 정렬**"
      ]
    },
    {
      "cell_type": "markdown",
      "metadata": {
        "id": "JWC_90JW7YWr"
      },
      "source": [
        "### **정렬된 배열에서 특정 수의 개수 구하기**"
      ]
    },
    {
      "cell_type": "code",
      "metadata": {
        "id": "cMXuPlhg7X9K"
      },
      "source": [
        "def count_num(arr,x):\n",
        "  if x>arr[-1] or x<arr[0]:\n",
        "    return -1\n",
        "  first_num,mid_num,last_num=0,len(arr)//2,len(arr)-1\n",
        "  \n",
        "  while arr[mid_num] != x:\n",
        "    if arr[mid_num]>x:\n",
        "      mid_num,last_num=(mid_num+first_num)//2,mid_num\n",
        "    else:\n",
        "      first_num,mid_num=mid_num,(last_num+mid_num)//2\n",
        "\n",
        "  mid1,mid2=mid_num,mid_num\n",
        "  while mid1-1 !=first_num and last_num-1!=mid2:\n",
        "    if mid1-1==first_num:\n",
        "      pass\n",
        "    elif arr[(mid1+first_num)//2]==x:\n",
        "      mid1=(mid1+first_num)//2\n",
        "    else:\n",
        "      first_num=(mid1+first_num)//2\n",
        "    if last_num-1==mid2:\n",
        "      pass\n",
        "    elif arr[(last_num+mid2)//2]==x:\n",
        "      mid2=(last_num+mid2)//2\n",
        "    else:\n",
        "      last_num=(last_num+mid2)//2\n",
        "  return last_num-first_num-1"
      ],
      "execution_count": null,
      "outputs": []
    },
    {
      "cell_type": "code",
      "metadata": {
        "id": "dOZ9szYL7dBL",
        "colab": {
          "base_uri": "https://localhost:8080/"
        },
        "outputId": "c8badad8-d133-48ef-cb09-af33b6c60ef7"
      },
      "source": [
        "arr=[1,1,1,1,1,1,1,1,1,1,1,1,1,1,1,1,1,1,1,1,1,1,1,2,2,2,2,3]\n",
        "x=2\n",
        "count_num(arr,x)"
      ],
      "execution_count": null,
      "outputs": [
        {
          "output_type": "stream",
          "text": [
            "21 23\n",
            "22 23\n"
          ],
          "name": "stdout"
        },
        {
          "output_type": "execute_result",
          "data": {
            "text/plain": [
              "4"
            ]
          },
          "metadata": {
            "tags": []
          },
          "execution_count": 53
        }
      ]
    },
    {
      "cell_type": "code",
      "metadata": {
        "colab": {
          "base_uri": "https://localhost:8080/"
        },
        "id": "KjbUjT7B7c81",
        "outputId": "79041bde-5631-466e-ceb8-2022b38b0512"
      },
      "source": [
        "arr=[1,1,2,2,2,2,3]\n",
        "x=4\n",
        "count_num(arr,x)"
      ],
      "execution_count": null,
      "outputs": [
        {
          "output_type": "execute_result",
          "data": {
            "text/plain": [
              "-1"
            ]
          },
          "metadata": {
            "tags": []
          },
          "execution_count": 27
        }
      ]
    },
    {
      "cell_type": "markdown",
      "metadata": {
        "id": "R7nbHnewVS4p"
      },
      "source": [
        "### **고정점 찾기**"
      ]
    },
    {
      "cell_type": "code",
      "metadata": {
        "id": "sK47gG-XVSiZ"
      },
      "source": [
        "def station(arr):\n",
        "  forward_i,i,last_i=0,len(arr)//2,len(arr)-1\n",
        "  n=0\n",
        "  while arr[i] != i:\n",
        "    if n>len(arr):\n",
        "      return -1\n",
        "    elif arr[i]>i:\n",
        "      i,last_i= (forward_i+i)//2,i\n",
        "    elif arr[i]<i:\n",
        "      forward_i,i=i,(i+last_i)//2\n",
        "    n+=1\n",
        "  return i"
      ],
      "execution_count": null,
      "outputs": []
    },
    {
      "cell_type": "code",
      "metadata": {
        "colab": {
          "base_uri": "https://localhost:8080/"
        },
        "id": "zM23FYKJVSeu",
        "outputId": "6b0f01f9-ef22-4824-915e-e2a5989af4a4"
      },
      "source": [
        "arr=[-15,-6,1,3,7]\n",
        "station(arr)"
      ],
      "execution_count": null,
      "outputs": [
        {
          "output_type": "execute_result",
          "data": {
            "text/plain": [
              "3"
            ]
          },
          "metadata": {
            "tags": []
          },
          "execution_count": 67
        }
      ]
    },
    {
      "cell_type": "code",
      "metadata": {
        "id": "2w0v5qwq7cmI",
        "colab": {
          "base_uri": "https://localhost:8080/"
        },
        "outputId": "0a08a445-1749-4838-d4f5-53e5e65a64fd"
      },
      "source": [
        "arr=[-15,-4,2,8,9,13,15]\n",
        "station(arr)"
      ],
      "execution_count": null,
      "outputs": [
        {
          "output_type": "execute_result",
          "data": {
            "text/plain": [
              "2"
            ]
          },
          "metadata": {
            "tags": []
          },
          "execution_count": 68
        }
      ]
    },
    {
      "cell_type": "code",
      "metadata": {
        "colab": {
          "base_uri": "https://localhost:8080/"
        },
        "id": "-Woe1QWLYICA",
        "outputId": "9b0cf811-edfb-4973-a24a-eac69d11642f"
      },
      "source": [
        "arr=[-15,-4,3,8,9,13,15]\n",
        "station(arr)"
      ],
      "execution_count": null,
      "outputs": [
        {
          "output_type": "execute_result",
          "data": {
            "text/plain": [
              "-1"
            ]
          },
          "metadata": {
            "tags": []
          },
          "execution_count": 69
        }
      ]
    },
    {
      "cell_type": "markdown",
      "metadata": {
        "id": "dlqfvYItYM0E"
      },
      "source": [
        "### **공유기 설치**"
      ]
    },
    {
      "cell_type": "code",
      "metadata": {
        "id": "WxqGiEuRYQ2l"
      },
      "source": [
        "import math\n",
        "def place(arr,c):\n",
        "  arr=sorted(arr)\n",
        "  gap=(arr[-1]-arr[0])//c\n",
        "  next=arr[0]\n",
        "  for j in range(10):\n",
        "    lis=[arr[0],arr[-1]]\n",
        "    count=2\n",
        "    for i in arr:\n",
        "      if i>=next+gap:\n",
        "        next+=i\n",
        "        lis.append(i)\n",
        "        count+=1\n",
        "    if count==c:\n",
        "      break\n",
        "    elif count>c:\n",
        "      lis=lis[:-1]\n",
        "      break\n",
        "    else:\n",
        "      gap-=1\n",
        "  lis=sorted(lis)\n",
        "  min_num=1e9\n",
        "  for i in range(len(lis)-1):\n",
        "    min_num=min(min_num,lis[i+1]-lis[i])\n",
        "  return min_num"
      ],
      "execution_count": null,
      "outputs": []
    },
    {
      "cell_type": "code",
      "metadata": {
        "colab": {
          "base_uri": "https://localhost:8080/"
        },
        "id": "FlDLm-oMfWRc",
        "outputId": "4bddb6da-a518-4004-abd9-dc665b3aad86"
      },
      "source": [
        "arr=[1,2,4,8,9]\n",
        "c=3\n",
        "place(arr,c)"
      ],
      "execution_count": null,
      "outputs": [
        {
          "output_type": "stream",
          "text": [
            "[1, 9, 4]\n"
          ],
          "name": "stdout"
        },
        {
          "output_type": "execute_result",
          "data": {
            "text/plain": [
              "3"
            ]
          },
          "metadata": {
            "tags": []
          },
          "execution_count": 14
        }
      ]
    },
    {
      "cell_type": "markdown",
      "metadata": {
        "id": "1RRugl9udQbs"
      },
      "source": [
        "### **가사 검색**"
      ]
    },
    {
      "cell_type": "code",
      "metadata": {
        "id": "uiDFUGISdSyv"
      },
      "source": [
        "def find_word(arr):\n",
        "  word_arr=[]\n",
        "  for i in arr:\n",
        "    new_arr=[len(i)]\n",
        "    for j in range(len(i)):\n",
        "      if i[j] !='?' and (j==0 or i[j-1]=='?'):\n",
        "        new_arr.append(j)\n",
        "      if i[j] !='?' and (j==len(i)-1 or i[j+1]=='?'):\n",
        "        new_arr.append(j)\n",
        "    if new_arr[2]==len(i)-1:\n",
        "      new_arr.append(i[new_arr[1]:])\n",
        "    else:\n",
        "      new_arr.append(i[new_arr[1]:new_arr[2]+1])\n",
        "    word_arr.append(new_arr)\n",
        "  return word_arr\n"
      ],
      "execution_count": null,
      "outputs": []
    },
    {
      "cell_type": "code",
      "metadata": {
        "id": "zPiP9PFxhSsI"
      },
      "source": [
        "def anw(words,queries):\n",
        "  arr=find_word(queries)\n",
        "  anw=[]\n",
        "  for i in arr:\n",
        "    count=0\n",
        "    for j in words:\n",
        "      if len(j)==i[0]:\n",
        "        if (i[2]==len(j)-1 and j[i[1]:]==i[3]) or (j[i[1]:i[2]+1]==i[3]):\n",
        "          count+=1\n",
        "    anw.append(count)\n",
        "  return anw"
      ],
      "execution_count": null,
      "outputs": []
    },
    {
      "cell_type": "code",
      "metadata": {
        "colab": {
          "base_uri": "https://localhost:8080/"
        },
        "id": "Zf7IQo5IfQYq",
        "outputId": "96fcfd41-8809-47a0-fa05-04c0f1b040b0"
      },
      "source": [
        "words=['frodo','front','frost','frozen','frame','kakao']\n",
        "queries=['fro??','????o','fr???','fro???','pro?']\n",
        "print(find_word(queries))\n",
        "print('----------------------')\n",
        "anw(words,queries)"
      ],
      "execution_count": null,
      "outputs": [
        {
          "output_type": "stream",
          "text": [
            "[[5, 0, 2, 'fro'], [5, 4, 4, 'o'], [5, 0, 1, 'fr'], [6, 0, 2, 'fro'], [4, 0, 2, 'pro']]\n",
            "----------------------\n"
          ],
          "name": "stdout"
        },
        {
          "output_type": "execute_result",
          "data": {
            "text/plain": [
              "[3, 2, 4, 1, 0]"
            ]
          },
          "metadata": {
            "tags": []
          },
          "execution_count": 41
        }
      ]
    },
    {
      "cell_type": "markdown",
      "metadata": {
        "id": "193N6-ASeCrl"
      },
      "source": [
        "# 알아야 될것\n",
        "arr=[[]]*5     vs     arr=[[] for i in range(5)]\n",
        "arr[1].append(1)\n"
      ]
    },
    {
      "cell_type": "code",
      "metadata": {
        "colab": {
          "base_uri": "https://localhost:8080/"
        },
        "id": "ntK7OE3eecrF",
        "outputId": "1c83ec3c-9637-473d-ab2e-eddcc0a1ccc8"
      },
      "source": [
        "arr=[[]]*5\n",
        "arr[1].append(1)\n",
        "arr"
      ],
      "execution_count": null,
      "outputs": [
        {
          "output_type": "execute_result",
          "data": {
            "text/plain": [
              "[[1], [1], [1], [1], [1]]"
            ]
          },
          "metadata": {
            "tags": []
          },
          "execution_count": 22
        }
      ]
    },
    {
      "cell_type": "code",
      "metadata": {
        "colab": {
          "base_uri": "https://localhost:8080/"
        },
        "id": "xTDL8WY3efnx",
        "outputId": "b02b7615-7d50-40be-dc76-38a8221dd52c"
      },
      "source": [
        "arr=[[] for i in range(5)]\n",
        "arr[1].append(1)\n",
        "arr"
      ],
      "execution_count": null,
      "outputs": [
        {
          "output_type": "execute_result",
          "data": {
            "text/plain": [
              "[[], [1], [], [], []]"
            ]
          },
          "metadata": {
            "tags": []
          },
          "execution_count": 23
        }
      ]
    },
    {
      "cell_type": "code",
      "metadata": {
        "id": "PUd1jx0EemBG"
      },
      "source": [
        "from collections import deque\n",
        "N,M=map(int,input().split())\n",
        "graph=[]\n",
        "\n",
        "\n",
        "for i in range(N):\n",
        "  graph.append(list(map(int,input().strip())))\n",
        "#그래프 받았고, 이제 1을 케이스 분류 할 차례\n",
        "def True_1(graph):\n",
        "  for i in range (N):\n",
        "    for j in range(M):\n",
        "      if graph[i][j]==1:\n",
        "        if ((j-1)>=0) and ((j+1)<M) and graph[i][j-1]==0 and graph[i][j+1]==0:\n",
        "          graph[i][j]='A'\n",
        "        elif (i-1)>=0 and (i+1)<N and graph[i-1][j]==0 and graph[i+1][j]==0:\n",
        "          graph[i][j]='A'\n",
        "        else :\n",
        "          pass\n",
        "# True를 차례대로 0으로 변환하고 bfs계산 후 1로 수정 값은 모두 모아서\n",
        "#전부 -1인 경우에 -1 반환 or return min\n",
        "# direction -1,0//0,1//1,0//0,-1\n",
        "count_list=[]\n",
        "dx=[-1,0,1,0]\n",
        "dy=[0,1,0,-1]\n",
        "\n",
        "def bfs(x,y):\n",
        "  queue=deque()\n",
        "  queue.append((x,y))\n",
        "  while queue:\n",
        "    x,y=queue.popleft()\n",
        "    for i in range(4):\n",
        "      nx=x+dx[i]\n",
        "      ny=y+dy[i]\n",
        "      if nx<0 and nx>=M and ny<0 and ny>=N:\n",
        "        continue\n",
        "      if graph[nx][ny]>0:#0보다 크면 벽\n",
        "        continue\n",
        "      if graph[nx][ny]==0:\n",
        "        graph_virtual[nx][ny]=graph_virtual[x][y]+1\n",
        "        queue.append((nx,ny))\n",
        "  return graph_virtual[N-1][M-1]\n",
        "\n",
        "\n",
        "\n",
        "for i in range(N):\n",
        "  for j in range(M):\n",
        "    if graph[i][j]=='A':\n",
        "      graph[i][j]=0\n",
        "      graph_virtual=graph[:]\n",
        "      count_list.append(bfs(0,0))\n",
        "      graph[i][j]=1\n",
        "    else:\n",
        "      pass\n",
        "\n",
        "True_1(graph)\n",
        "print(graph)\n",
        "print(min(count_list))\n"
      ],
      "execution_count": null,
      "outputs": []
    },
    {
      "cell_type": "code",
      "metadata": {
        "id": "izSf60qnRfUT",
        "colab": {
          "base_uri": "https://localhost:8080/"
        },
        "outputId": "b4862b3c-56cd-4d68-f801-0623d799a6e0"
      },
      "source": [
        "#국영수 문제\n",
        "\n",
        "point={\"JunKyu\":[50,60,100],\n",
        "       'Sangkeun':[80,60,50],\n",
        "       'Sunyoung':[80,70,100],\n",
        "       'Soong':[50,60,100],\n",
        "       'Haebin':[50,60,100],\n",
        "       'Kangsoo':[60,80,100],\n",
        "       'Donghyuk':[80,60,100],\n",
        "       'Sei':[70,70,70],\n",
        "       'Wonseob':[70,70,90],\n",
        "       'Sanghyun':[70,70,80],\n",
        "       'nsj':[80,80,80],\n",
        "       'Taewhan':[50,60,90]}\n",
        "sorted(point.items(), key = lambda x : ((((-x[1][0]),x[1][1]),-x[1][2]),x[0]))"
      ],
      "execution_count": null,
      "outputs": [
        {
          "output_type": "execute_result",
          "data": {
            "text/plain": [
              "[('Donghyuk', [80, 60, 100]),\n",
              " ('Sangkeun', [80, 60, 50]),\n",
              " ('Sunyoung', [80, 70, 100]),\n",
              " ('nsj', [80, 80, 80]),\n",
              " ('Wonseob', [70, 70, 90]),\n",
              " ('Sanghyun', [70, 70, 80]),\n",
              " ('Sei', [70, 70, 70]),\n",
              " ('Kangsoo', [60, 80, 100]),\n",
              " ('Haebin', [50, 60, 100]),\n",
              " ('JunKyu', [50, 60, 100]),\n",
              " ('Soong', [50, 60, 100]),\n",
              " ('Taewhan', [50, 60, 90])]"
            ]
          },
          "metadata": {
            "tags": []
          },
          "execution_count": 78
        }
      ]
    },
    {
      "cell_type": "code",
      "metadata": {
        "id": "1jIZFfQN2Eoe"
      },
      "source": [
        ""
      ],
      "execution_count": null,
      "outputs": []
    }
  ]
}