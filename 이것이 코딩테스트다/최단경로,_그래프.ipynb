{
  "nbformat": 4,
  "nbformat_minor": 0,
  "metadata": {
    "colab": {
      "name": "최단경로, 그래프",
      "provenance": [],
      "authorship_tag": "ABX9TyNJNUNvkGM/iBejh8zBys62",
      "include_colab_link": true
    },
    "kernelspec": {
      "name": "python3",
      "display_name": "Python 3"
    },
    "language_info": {
      "name": "python"
    }
  },
  "cells": [
    {
      "cell_type": "markdown",
      "metadata": {
        "id": "view-in-github",
        "colab_type": "text"
      },
      "source": [
        "<a href=\"https://colab.research.google.com/github/hkyoo52/Algorithm/blob/main/%EC%B5%9C%EB%8B%A8%EA%B2%BD%EB%A1%9C%2C_%EA%B7%B8%EB%9E%98%ED%94%84.ipynb\" target=\"_parent\"><img src=\"https://colab.research.google.com/assets/colab-badge.svg\" alt=\"Open In Colab\"/></a>"
      ]
    },
    {
      "cell_type": "markdown",
      "metadata": {
        "id": "Kj7wsmsPFjGi"
      },
      "source": [
        "## **최단경로**"
      ]
    },
    {
      "cell_type": "markdown",
      "metadata": {
        "id": "tNdvX7lXG8Dv"
      },
      "source": [
        "### **개선된 다익스트라 알고리즘 코드**"
      ]
    },
    {
      "cell_type": "code",
      "metadata": {
        "colab": {
          "base_uri": "https://localhost:8080/"
        },
        "id": "beR-kr8yHAnQ",
        "outputId": "c9887f5f-22d9-400f-818c-a32347d46160"
      },
      "source": [
        "n,m=6,11\n",
        "graph=[[]for i in range(n+1)]\n",
        "for _ in range(m):\n",
        "  a,b,c=map(int,input().split())\n",
        "  graph[a].append((b,c))"
      ],
      "execution_count": null,
      "outputs": [
        {
          "output_type": "stream",
          "text": [
            "1 2 2\n",
            "1 3 5\n",
            "1 4 1\n",
            "2 3 3\n",
            "2 4 2\n",
            "3 2 3\n",
            "3 6 5\n",
            "4 3 3\n",
            "4 5 1\n",
            "5 3 1\n",
            "5 6 2\n"
          ],
          "name": "stdout"
        }
      ]
    },
    {
      "cell_type": "code",
      "metadata": {
        "id": "XeukkeEyHAET"
      },
      "source": [
        "distance=[int(1e9)] * (n+1)"
      ],
      "execution_count": null,
      "outputs": []
    },
    {
      "cell_type": "code",
      "metadata": {
        "id": "p5uyZ_RrHri1"
      },
      "source": [
        "import heapq\n",
        "import sys\n",
        "\n",
        "def dijkstra(start):\n",
        "  q=[]\n",
        "  heapq.heappush(q,(0,start))\n",
        "  distance[start]=0\n",
        "  while q:\n",
        "    dist,now=heapq.heappop(q)\n",
        "    if distance[now]<dist:\n",
        "      continue\n",
        "    for i in graph[now]:\n",
        "      cost=dist+i[1]\n",
        "      if cost<distance[i[0]]:\n",
        "        distance[i[0]]=cost\n",
        "        heapq.heappush(q,(cost,i[0]))\n",
        "  return distance"
      ],
      "execution_count": null,
      "outputs": []
    },
    {
      "cell_type": "code",
      "metadata": {
        "colab": {
          "base_uri": "https://localhost:8080/"
        },
        "id": "6WJby3YrIwNH",
        "outputId": "10ab85eb-61fe-41c3-c881-9d6e99719921"
      },
      "source": [
        "dis=dijkstra(1)\n",
        "for i in range(1,len(dis)):\n",
        "  if dis[i]==int(1e9):\n",
        "    print('무한')\n",
        "  else:\n",
        "    print(dis[i])\n"
      ],
      "execution_count": null,
      "outputs": [
        {
          "output_type": "stream",
          "text": [
            "0\n",
            "2\n",
            "3\n",
            "1\n",
            "2\n",
            "4\n"
          ],
          "name": "stdout"
        }
      ]
    },
    {
      "cell_type": "markdown",
      "metadata": {
        "id": "aeYXsUlCNvQE"
      },
      "source": [
        "### **미래 도시**"
      ]
    },
    {
      "cell_type": "code",
      "metadata": {
        "colab": {
          "base_uri": "https://localhost:8080/",
          "height": 241
        },
        "id": "s0b3fzmMDe5_",
        "outputId": "089c824d-83ce-4604-b12a-e4527ffd1a8c"
      },
      "source": [
        "import copy\n",
        "\n",
        "INF=int(1e9)\n",
        "\n",
        "n,m=map(int,input().split())\n",
        "graph=[[] for i in range(n+1)]\n",
        "distance=[INF]*(n+1)\n",
        "x,k=map(int,input().split())\n",
        "\n",
        "for _ in range(m):\n",
        "  a,b=map(int,input().split())\n",
        "  graph[a].append(b)\n",
        "\n",
        "c_graph=copy.deepcopy(graph)\n",
        "for i in range(len(graph)):\n",
        "  for j in c_graph[i]:\n",
        "    graph[j].append(i)\n",
        "\n",
        "for i in graph:\n",
        "  for j in i:\n",
        "    graph[j].append(i)\n",
        "\n",
        "def dijkstra(start,end):\n",
        "  distance[start]=0\n",
        "  for i in range(1,5+1):\n",
        "    for j in graph[i]:\n",
        "      distance[j]=min(distance[j],distance[i]+1)\n",
        "  return distance[end]\n",
        "\n",
        "print(dijkstra(1,X)+dijkstra(X,K))"
      ],
      "execution_count": null,
      "outputs": [
        {
          "output_type": "error",
          "ename": "ValueError",
          "evalue": "ignored",
          "traceback": [
            "\u001b[0;31m---------------------------------------------------------------------------\u001b[0m",
            "\u001b[0;31mValueError\u001b[0m                                Traceback (most recent call last)",
            "\u001b[0;32m<ipython-input-48-f6cc252e30ab>\u001b[0m in \u001b[0;36m<module>\u001b[0;34m()\u001b[0m\n\u001b[1;32m      3\u001b[0m \u001b[0mINF\u001b[0m\u001b[0;34m=\u001b[0m\u001b[0mint\u001b[0m\u001b[0;34m(\u001b[0m\u001b[0;36m1e9\u001b[0m\u001b[0;34m)\u001b[0m\u001b[0;34m\u001b[0m\u001b[0;34m\u001b[0m\u001b[0m\n\u001b[1;32m      4\u001b[0m \u001b[0;34m\u001b[0m\u001b[0m\n\u001b[0;32m----> 5\u001b[0;31m \u001b[0mn\u001b[0m\u001b[0;34m,\u001b[0m\u001b[0mm\u001b[0m\u001b[0;34m=\u001b[0m\u001b[0mmap\u001b[0m\u001b[0;34m(\u001b[0m\u001b[0mint\u001b[0m\u001b[0;34m,\u001b[0m\u001b[0minput\u001b[0m\u001b[0;34m(\u001b[0m\u001b[0;34m)\u001b[0m\u001b[0;34m.\u001b[0m\u001b[0msplit\u001b[0m\u001b[0;34m(\u001b[0m\u001b[0;34m)\u001b[0m\u001b[0;34m)\u001b[0m\u001b[0;34m\u001b[0m\u001b[0;34m\u001b[0m\u001b[0m\n\u001b[0m\u001b[1;32m      6\u001b[0m \u001b[0mgraph\u001b[0m\u001b[0;34m=\u001b[0m\u001b[0;34m[\u001b[0m\u001b[0;34m[\u001b[0m\u001b[0;34m]\u001b[0m \u001b[0;32mfor\u001b[0m \u001b[0mi\u001b[0m \u001b[0;32min\u001b[0m \u001b[0mrange\u001b[0m\u001b[0;34m(\u001b[0m\u001b[0mn\u001b[0m\u001b[0;34m+\u001b[0m\u001b[0;36m1\u001b[0m\u001b[0;34m)\u001b[0m\u001b[0;34m]\u001b[0m\u001b[0;34m\u001b[0m\u001b[0;34m\u001b[0m\u001b[0m\n\u001b[1;32m      7\u001b[0m \u001b[0mdistance\u001b[0m\u001b[0;34m=\u001b[0m\u001b[0;34m[\u001b[0m\u001b[0mINF\u001b[0m\u001b[0;34m]\u001b[0m\u001b[0;34m*\u001b[0m\u001b[0;34m(\u001b[0m\u001b[0mn\u001b[0m\u001b[0;34m+\u001b[0m\u001b[0;36m1\u001b[0m\u001b[0;34m)\u001b[0m\u001b[0;34m\u001b[0m\u001b[0;34m\u001b[0m\u001b[0m\n",
            "\u001b[0;31mValueError\u001b[0m: not enough values to unpack (expected 2, got 0)"
          ]
        }
      ]
    },
    {
      "cell_type": "code",
      "metadata": {
        "colab": {
          "base_uri": "https://localhost:8080/"
        },
        "id": "5EcWFFkOK2jO",
        "outputId": "1e0b7b86-2c31-4143-b3ab-87869e663f5b"
      },
      "source": [
        "graph=[[],[2,3,4],[4],[4,5],[5],[]]\n",
        "distance=[INF]*(n+1)\n",
        "\n",
        "c_graph=copy.deepcopy(graph)\n",
        "\n",
        "for i in range(len(graph)):\n",
        "  for j in c_graph[i]:\n",
        "    graph[j].append(i)\n",
        "\n",
        "def dijkstra(start,end):\n",
        "  distance[start]=0\n",
        "  for i in range(1,5+1):\n",
        "    for j in graph[i]:\n",
        "      distance[j]=min(distance[j],distance[i]+1)\n",
        "  return distance[end]\n",
        "\n",
        "print(dijkstra(1,5)+dijkstra(5,4))"
      ],
      "execution_count": null,
      "outputs": [
        {
          "output_type": "stream",
          "text": [
            "3\n"
          ],
          "name": "stdout"
        }
      ]
    },
    {
      "cell_type": "markdown",
      "metadata": {
        "id": "T3q2Hk86X15a"
      },
      "source": [
        "### **플로이드**"
      ]
    },
    {
      "cell_type": "code",
      "metadata": {
        "id": "d7A9y3viOzEt"
      },
      "source": [
        "import numpy as np\n",
        "def flowed(n,arr):\n",
        "  INF=int(1e9)\n",
        "  graph=[[INF]*(n+1) for _ in range(n+1)]\n",
        "  for i in range(1,n+1):\n",
        "    graph[i][i]=0\n",
        "  for j in arr:\n",
        "    graph[j[0]][j[1]]=min(j[2],graph[j[0]][j[1]])\n",
        "\n",
        "  for k in range(1,n+1):\n",
        "    for a in range(1,n+1):\n",
        "      for b in range(1,n+1):\n",
        "        graph[a][b]=min(graph[a][b],graph[a][k]+graph[k][b])\n",
        "\n",
        "  for i in range(1,n+1):\n",
        "    for j in range(1,n+1):\n",
        "      if graph[i][j]==INF:\n",
        "        graph[i][j]='INF'\n",
        "  return np.array(graph)[1:,1:]"
      ],
      "execution_count": null,
      "outputs": []
    },
    {
      "cell_type": "code",
      "metadata": {
        "colab": {
          "base_uri": "https://localhost:8080/"
        },
        "id": "3bTCBTOgYGIa",
        "outputId": "729a66bd-ee5e-4f93-8412-e1947c7f52d3"
      },
      "source": [
        "n=5\n",
        "arr=[[1,2,2],[1,3,3],[1,4,1],[1,5,10],[2,4,2],[3,4,1],[3,5,1],[4,5,3],[3,5,10],[3,1,8],[1,4,2],[5,1,7],[3,4,2],[5,2,4]]\n",
        "graph=flowed(n,arr)\n",
        "for i in graph:\n",
        "  print(i)"
      ],
      "execution_count": null,
      "outputs": [
        {
          "output_type": "stream",
          "text": [
            "[0 2 3 1 4]\n",
            "[12  0 15  2  5]\n",
            "[8 5 0 1 1]\n",
            "[10  7 13  0  3]\n",
            "[ 7  4 10  6  0]\n"
          ],
          "name": "stdout"
        }
      ]
    },
    {
      "cell_type": "markdown",
      "metadata": {
        "id": "8AZNVNU2dsXe"
      },
      "source": [
        "### **정확한 순위**"
      ]
    },
    {
      "cell_type": "code",
      "metadata": {
        "id": "h9hl9PuwZCHh"
      },
      "source": [
        "import numpy as np\n",
        "INF=int(1e9)\n",
        "def score(arr,n):\n",
        "  graph=[[INF]*(n+1) for _ in range(n+1)]\n",
        "  for i in range(1,n+1):\n",
        "    graph[i][i]=0\n",
        "  for j in arr:\n",
        "    graph[j[0]][j[1]]=1\n",
        "    graph[j[1]][j[0]]=-1\n",
        "\n",
        "  for a in range(1,n+1):\n",
        "    for b in range(1,n+1):\n",
        "      for k in range(1,n+1):\n",
        "        if graph[a][b]==1 and graph[b][k]==1:\n",
        "          graph[a][k]=1\n",
        "        elif graph[a][b]==-1 and graph[b][k]==-1:\n",
        "          graph[a][k]=-1\n",
        "\n",
        "  graph=np.array(graph)[1:,1:]\n",
        "\n",
        "  count=0\n",
        "  for i in graph:\n",
        "    if INF not in i:\n",
        "      count+=1\n",
        "  return count"
      ],
      "execution_count": null,
      "outputs": []
    },
    {
      "cell_type": "code",
      "metadata": {
        "colab": {
          "base_uri": "https://localhost:8080/"
        },
        "id": "NC5_ZZP6fhr2",
        "outputId": "35344b14-42af-42d9-817d-f228e4d92e87"
      },
      "source": [
        "n=6\n",
        "arr=[[1,5],[3,4],[4,2],[4,6],[5,2],[5,4]]\n",
        "score(arr,n)"
      ],
      "execution_count": null,
      "outputs": [
        {
          "output_type": "execute_result",
          "data": {
            "text/plain": [
              "1"
            ]
          },
          "metadata": {
            "tags": []
          },
          "execution_count": 110
        }
      ]
    },
    {
      "cell_type": "markdown",
      "metadata": {
        "id": "aT0Bbf5ReQ5s"
      },
      "source": [
        "### **화성 탐사**"
      ]
    },
    {
      "cell_type": "code",
      "metadata": {
        "id": "A_ohR0b1jBYS"
      },
      "source": [
        "#bfs\n",
        "from collections import deque\n",
        "INF=int(1e9)\n",
        "def travel(arr):\n",
        "  n=len(arr)\n",
        "  graph=[[INF]*(n) for _ in range(n)]\n",
        "  graph[0][0]=arr[0][0]\n",
        "  queue=deque()\n",
        "  queue.append([0,0])\n",
        "  dr=[1,0,0,-1]\n",
        "  dc=[0,1,-1,0]\n",
        "  while queue:\n",
        "    r,c=queue.popleft()\n",
        "    for i in range(4):\n",
        "      nr,nc=r+dr[i],c+dc[i]\n",
        "      if 0<=nc<len(arr) and 0<=nr<len(arr[0]):\n",
        "        if arr[nr][nc]+graph[r][c]<graph[nr][nc]:\n",
        "          graph[nr][nc]=graph[r][c]+arr[nr][nc]\n",
        "          queue.append([nr,nc])\n",
        "    \n",
        "  return graph[n-1][n-1]"
      ],
      "execution_count": null,
      "outputs": []
    },
    {
      "cell_type": "code",
      "metadata": {
        "colab": {
          "base_uri": "https://localhost:8080/"
        },
        "id": "UCinlIIahHPc",
        "outputId": "dd56ce96-2c8e-43d3-cff7-63b64200f81a"
      },
      "source": [
        "arr=[[5,5,4],\n",
        "     [3,9,1],\n",
        "     [3,2,7]]\n",
        "travel(arr)"
      ],
      "execution_count": null,
      "outputs": [
        {
          "output_type": "execute_result",
          "data": {
            "text/plain": [
              "20"
            ]
          },
          "metadata": {
            "tags": []
          },
          "execution_count": 47
        }
      ]
    },
    {
      "cell_type": "code",
      "metadata": {
        "colab": {
          "base_uri": "https://localhost:8080/"
        },
        "id": "CAdZzaMPhP6x",
        "outputId": "98075839-2a09-47da-a023-4895770668e4"
      },
      "source": [
        "arr=[[3,7,2,0,1],[2,8,0,9,1],[1,2,1,8,1],[9,8,9,2,0],[3,6,5,1,5]]\n",
        "travel(arr)"
      ],
      "execution_count": null,
      "outputs": [
        {
          "output_type": "execute_result",
          "data": {
            "text/plain": [
              "19"
            ]
          },
          "metadata": {
            "tags": []
          },
          "execution_count": 48
        }
      ]
    },
    {
      "cell_type": "code",
      "metadata": {
        "id": "NICsRliRhw49"
      },
      "source": [
        "import heapq\n",
        "def dijkstra(arr):\n",
        "  q=[]\n",
        "  n=len(arr)\n",
        "  heapq.heappush(q,(arr[0][0],[0,0]))\n",
        "  graph=[[INF]*(n) for _ in range(n)]\n",
        "  graph[0][0]=arr[0][0]\n",
        "  dr=[1,0,0,-1]\n",
        "  dc=[0,1,-1,0]\n",
        "  while q:\n",
        "    dist,now=heapq.heappop(q)\n",
        "    r,c=now\n",
        "    if graph[r][c]<dist:\n",
        "      continue\n",
        "    for i in range(4):\n",
        "      nr,nc=r+dr[i],c+dc[i]\n",
        "      if 0<=nc<len(arr) and 0<=nr<len(arr[0]):\n",
        "        cost=dist+arr[nr][nc]\n",
        "        if cost<graph[nr][nc]:\n",
        "          graph[nr][nc]=cost\n",
        "          heapq.heappush(q,(cost,[nr,nc]))\n",
        "  return graph[n-1][n-1]\n"
      ],
      "execution_count": null,
      "outputs": []
    },
    {
      "cell_type": "code",
      "metadata": {
        "colab": {
          "base_uri": "https://localhost:8080/"
        },
        "id": "gsOkGbVnmM3c",
        "outputId": "e67f3a54-41e7-4028-d761-ac0b72f2c34e"
      },
      "source": [
        "arr=[[3,7,2,0,1],[2,8,0,9,1],[1,2,1,8,1],[9,8,9,2,0],[3,6,5,1,5]]\n",
        "dijkstra(arr)"
      ],
      "execution_count": null,
      "outputs": [
        {
          "output_type": "execute_result",
          "data": {
            "text/plain": [
              "19"
            ]
          },
          "metadata": {
            "tags": []
          },
          "execution_count": 41
        }
      ]
    },
    {
      "cell_type": "markdown",
      "metadata": {
        "id": "VRWx83mwpM1N"
      },
      "source": [
        "### **숨바꼭질**"
      ]
    },
    {
      "cell_type": "code",
      "metadata": {
        "id": "aJ2Cfu80mOXF"
      },
      "source": [
        "import heapq\n",
        "def find(n,arr):\n",
        "  INF=int(1e9)\n",
        "  distance=[INF for _ in range(n+1)]\n",
        "  distance[1]=0\n",
        "  graph=[[] for _ in range(n+1)]\n",
        "  for i in arr:\n",
        "    graph[i[0]].append(i[1])\n",
        "    graph[i[1]].append(i[0])\n",
        "\n",
        "  q=[]\n",
        "  heapq.heappush(q,(0,1))\n",
        "\n",
        "  while q:\n",
        "    dist,now=heapq.heappop(q)\n",
        "    if distance[now]<dist:\n",
        "      continue\n",
        "    for i in graph[now]:\n",
        "      if dist+1<distance[i]:\n",
        "        distance[i]=dist+1\n",
        "        heapq.heappush(q,(dist+1,i))\n",
        "\n",
        "  distance=distance[1:]\n",
        "  ind=distance.index(max(distance))\n",
        "  count=distance.count(max(distance))\n",
        "  return ind+1,distance[ind],count"
      ],
      "execution_count": null,
      "outputs": []
    },
    {
      "cell_type": "code",
      "metadata": {
        "colab": {
          "base_uri": "https://localhost:8080/"
        },
        "id": "gqLtkR2TqE1k",
        "outputId": "02355520-d783-4d51-b855-a479e4c14c36"
      },
      "source": [
        "arr=[[3,6],[4,3],[3,2],[1,3],[1,2],[2,4],[5,2]]\n",
        "find(6,arr)"
      ],
      "execution_count": null,
      "outputs": [
        {
          "output_type": "stream",
          "text": [
            "[1000000000, 0, 1, 1, 2, 2, 2]\n"
          ],
          "name": "stdout"
        },
        {
          "output_type": "execute_result",
          "data": {
            "text/plain": [
              "(4, 2, 3)"
            ]
          },
          "metadata": {
            "tags": []
          },
          "execution_count": 8
        }
      ]
    },
    {
      "cell_type": "code",
      "metadata": {
        "id": "nSY5a6Y9qKnu"
      },
      "source": [
        ""
      ],
      "execution_count": null,
      "outputs": []
    },
    {
      "cell_type": "markdown",
      "metadata": {
        "id": "yxMJVyt8yQHJ"
      },
      "source": [
        "## **그래프 이론**"
      ]
    },
    {
      "cell_type": "markdown",
      "metadata": {
        "id": "NGqSiLopyTQe"
      },
      "source": [
        "### **서로소**"
      ]
    },
    {
      "cell_type": "code",
      "metadata": {
        "id": "SRr7QxdVyVFB"
      },
      "source": [
        "#현재 값의 value를 parent값으로 만듬\n",
        "def find_parent(parent,x):\n",
        "  if parent[x] !=x:\n",
        "    return find_parent(parent,parent[x])\n",
        "  return x\n",
        "\n",
        "\n",
        "#2개의 값을 연결하기(한쪽을 부모로)\n",
        "def union_parent(parent,a,b):\n",
        "  a=find_parent(parent,a)\n",
        "  b=find_parent(parent,b)\n",
        "  if a<b:\n",
        "    parent[b]=a\n",
        "  else:\n",
        "    parent[a]=b"
      ],
      "execution_count": null,
      "outputs": []
    },
    {
      "cell_type": "code",
      "metadata": {
        "colab": {
          "base_uri": "https://localhost:8080/"
        },
        "id": "yrE8SU3gy5AI",
        "outputId": "02d174fc-d756-423a-fc8a-27f805f290fc"
      },
      "source": [
        "v,e=6,4\n",
        "parent=[i for i in range(v+1)]\n",
        "arr=[[1,4],[2,3],[2,4],[5,6]]\n",
        "for i in arr:\n",
        "  union_parent(parent,i[0],i[1])\n",
        "print(parent)"
      ],
      "execution_count": null,
      "outputs": [
        {
          "output_type": "stream",
          "text": [
            "[0, 1, 1, 2, 1, 5, 5]\n"
          ],
          "name": "stdout"
        }
      ]
    },
    {
      "cell_type": "code",
      "metadata": {
        "id": "U_9hzZzozgn4"
      },
      "source": [
        " def find_parent(parent,x):\n",
        "  if parent[x] !=x:\n",
        "    return find_parent(parent,parent[x])\n",
        "  return x\n",
        "\n",
        "  \n",
        "def union_parent(parent,a,b):\n",
        "  a=find_parent(parent,a)\n",
        "  b=find_parent(parent,b)\n",
        "  if a<b:\n",
        "    parent[b]=a\n",
        "  else:\n",
        "    parent[a]=b"
      ],
      "execution_count": null,
      "outputs": []
    },
    {
      "cell_type": "code",
      "metadata": {
        "colab": {
          "base_uri": "https://localhost:8080/"
        },
        "id": "_aZPQO3HwhwT",
        "outputId": "1891654e-5e83-4d6a-aa0c-1e52e67c6832"
      },
      "source": [
        "v,e=3,3\n",
        "parent=[i for i in range(v+1)]\n",
        "\n",
        "cycle=False\n",
        "\n",
        "arr=[[1,2],[1,3],[2,3]]\n",
        "for i in arr:\n",
        "  if find_parent(parent,i[0])==find_parent(parent,i[1]):\n",
        "    cycle=True\n",
        "    break\n",
        "  else:\n",
        "    union_parent(parent,i[0],i[1])\n",
        "if cycle:\n",
        "  print('cycle')\n",
        "else:\n",
        "  print('not cycle')"
      ],
      "execution_count": null,
      "outputs": [
        {
          "output_type": "stream",
          "text": [
            "cycle\n"
          ],
          "name": "stdout"
        }
      ]
    },
    {
      "cell_type": "markdown",
      "metadata": {
        "id": "gm9k5-Ie09Ot"
      },
      "source": [
        "### **크루스칼 알고리즘**"
      ]
    },
    {
      "cell_type": "code",
      "metadata": {
        "id": "N1j3ZIwHxVoQ"
      },
      "source": [
        "def find_parent(parent,x):\n",
        "  if parent[x] != x:\n",
        "    find_parent(parent,parent[x])\n",
        "  return parent[x]\n",
        "\n",
        "def union_parent(parent,a,b):\n",
        "  a=find_parent(parent,a)\n",
        "  b=find_parent(parent,b)\n",
        "  if a>b:\n",
        "    parent[a]=b\n",
        "  else:\n",
        "    parent[b]=a\n",
        "\n"
      ],
      "execution_count": null,
      "outputs": []
    },
    {
      "cell_type": "code",
      "metadata": {
        "colab": {
          "base_uri": "https://localhost:8080/"
        },
        "id": "uMdtEGOR10rL",
        "outputId": "6eb32bbd-4d01-4716-8b5e-ace75379015d"
      },
      "source": [
        "v,e=7,9\n",
        "arr=[[1,2,29],[1,5,75],[2,3,35],[2,6,34],[3,4,7],[4,6,23],[4,7,13],[5,6,53],[6,7,25]]\n",
        "arr=sorted(arr,key=lambda x : x[2])\n",
        "parent=[i for i in range(v+1)]\n",
        "sum=0\n",
        "for i in arr:\n",
        "  if find_parent(parent,i[0]) == find_parent(parent,i[1]):\n",
        "    continue\n",
        "  else:\n",
        "    sum+=i[2]\n",
        "    union_parent(parent,i[0],i[1])\n",
        "\n",
        "print(sum)"
      ],
      "execution_count": null,
      "outputs": [
        {
          "output_type": "stream",
          "text": [
            "159\n"
          ],
          "name": "stdout"
        }
      ]
    },
    {
      "cell_type": "markdown",
      "metadata": {
        "id": "wE1OWFk34s_b"
      },
      "source": [
        "### **위상정렬**"
      ]
    },
    {
      "cell_type": "code",
      "metadata": {
        "id": "vxEWTW_Z3CiU"
      },
      "source": [
        "from collections import deque\n",
        "\n",
        "def change(arr,v):\n",
        "  graph=[[] for i in range(v+1)]\n",
        "  indegree=[0]*(v+1)\n",
        "  for i in arr:\n",
        "    graph[i[0]].append(i[1])\n",
        "    indegree[i[1]]=indegree[i[1]]+1\n",
        "\n",
        "  return graph, indegree\n",
        "\n",
        "def topology_sort(graph,indegree):\n",
        "  result=[]\n",
        "  q=deque()\n",
        "  for i in range(1,v+1):\n",
        "    if indegree[i]==0:\n",
        "      q.append(i)\n",
        "  while q:\n",
        "    now=q.popleft()\n",
        "    result.append(now)\n",
        "    for i in graph[now]:\n",
        "      indegree[i]-=1\n",
        "      if indegree[i]==0:\n",
        "        q.append(i)\n",
        "  return result"
      ],
      "execution_count": null,
      "outputs": []
    },
    {
      "cell_type": "code",
      "metadata": {
        "colab": {
          "base_uri": "https://localhost:8080/"
        },
        "id": "BcL-Xl7-_T7l",
        "outputId": "3cfdf3a7-9a9f-4ad3-abbb-29f633465555"
      },
      "source": [
        "v,e=7,8\n",
        "arr=[[1,2],[1,5],[2,3],[2,6],[3,4],[4,7],[5,6],[6,4]]\n",
        "graph,indegree=change(arr,v)\n",
        "topology_sort(graph,indegree)"
      ],
      "execution_count": null,
      "outputs": [
        {
          "output_type": "execute_result",
          "data": {
            "text/plain": [
              "[1, 2, 5, 3, 6, 4, 7]"
            ]
          },
          "metadata": {
            "tags": []
          },
          "execution_count": 15
        }
      ]
    },
    {
      "cell_type": "markdown",
      "metadata": {
        "id": "_R8OdefnFqs7"
      },
      "source": [
        "### **팀 결성**"
      ]
    },
    {
      "cell_type": "code",
      "metadata": {
        "id": "JHiqTzGW_c4H"
      },
      "source": [
        "class make_team:\n",
        "  def __init__(self,team_arr,do_arr):\n",
        "    self.team_arr=team_arr\n",
        "    self.do_arr=do_arr\n",
        "\n",
        "  def find_parent(self,n):\n",
        "    if self.team_arr[n] != n:\n",
        "      find_parent(self.team_arr,self.team_arr[n])\n",
        "    return self.team_arr[n]\n",
        "\n",
        "  def same_team(self,n1,n2):\n",
        "    n1=self.find_parent(n1)\n",
        "    n2=self.find_parent(n2)\n",
        "    if n1>n2:\n",
        "      self.team_arr[n1]=n2\n",
        "    else:\n",
        "      self.team_arr[n2]=n1\n",
        "    return team_arr\n",
        "\n",
        "  def check_team(self,n1,n2):\n",
        "    n1=find_parent(self.team_arr,n1)\n",
        "    n2=find_parent(self.team_arr,n2)\n",
        "    if n1==n2:\n",
        "      print('YES')\n",
        "    else:\n",
        "      print('NO')\n",
        "\n",
        "  def do(self):\n",
        "    for i in self.do_arr:\n",
        "      if i[0]==0:\n",
        "        self.team_arr=self.same_team(i[1],i[2])\n",
        "      else:\n",
        "        self.check_team(i[1],i[2])"
      ],
      "execution_count": null,
      "outputs": []
    },
    {
      "cell_type": "code",
      "metadata": {
        "colab": {
          "base_uri": "https://localhost:8080/"
        },
        "id": "v-J954ohHVSG",
        "outputId": "72ec1afa-5423-4121-ea52-b2d094ce5172"
      },
      "source": [
        "N=7\n",
        "team_arr=[i for i in range(N+1)]\n",
        "do_arr=[[0,1,3],[1,1,7],[0,7,6],[1,7,1],[0,3,7],[0,4,2],[0,1,1],[1,1,1]]\n",
        "team=make_team(team_arr,do_arr)\n",
        "team.do()"
      ],
      "execution_count": null,
      "outputs": [
        {
          "output_type": "stream",
          "text": [
            "NO\n",
            "NO\n",
            "YES\n"
          ],
          "name": "stdout"
        }
      ]
    },
    {
      "cell_type": "markdown",
      "metadata": {
        "id": "FNqyyxxRL3kL"
      },
      "source": [
        "### **도시 분할 계획**"
      ]
    },
    {
      "cell_type": "code",
      "metadata": {
        "id": "l-dPzsp9H8Cs"
      },
      "source": [
        "def find_parent(parent,x):\n",
        "  if parent[x] != x:\n",
        "    return find_parent(parent,parent[x])\n",
        "  return parent[x]\n",
        "\n",
        "def union_parent(parent,a,b):\n",
        "  a=find_parent(parent,a)\n",
        "  b=find_parent(parent,b)\n",
        "  if a>b:\n",
        "    parent[a]=b\n",
        "  else:\n",
        "    parent[b]=a\n",
        "\n",
        "def get_fee(arr,v):\n",
        "  arr=sorted(arr,key=lambda x:x[2])\n",
        "  parent=[i for i in range(v+1)]\n",
        "  sum_arr=[]\n",
        "  for i in arr:\n",
        "    if find_parent(parent,i[0]) == find_parent(parent,i[1]):\n",
        "      continue\n",
        "    else:\n",
        "      sum_arr.append(i[2])\n",
        "      union_parent(parent,i[0],i[1])\n",
        "  sum_arr=sorted(sum_arr)[:-1]\n",
        "  return sum(sum_arr)"
      ],
      "execution_count": null,
      "outputs": []
    },
    {
      "cell_type": "code",
      "metadata": {
        "colab": {
          "base_uri": "https://localhost:8080/"
        },
        "id": "5ojWq6foNM7j",
        "outputId": "02aef10a-a293-4ac5-8faf-7463495f2253"
      },
      "source": [
        "v,e=7,12\n",
        "arr=[[1,2,3],[1,3,2],[3,2,1],[2,5,2],[3,4,4],[7,3,6],[5,1,5],[1,6,2],[6,4,1],[6,5,3],[4,5,3],[6,7,4]]\n",
        "get_fee(arr,v)"
      ],
      "execution_count": null,
      "outputs": [
        {
          "output_type": "execute_result",
          "data": {
            "text/plain": [
              "8"
            ]
          },
          "metadata": {
            "tags": []
          },
          "execution_count": 24
        }
      ]
    },
    {
      "cell_type": "code",
      "metadata": {
        "id": "xEesxskQOMtK"
      },
      "source": [
        ""
      ],
      "execution_count": null,
      "outputs": []
    },
    {
      "cell_type": "markdown",
      "metadata": {
        "id": "50RIWRIoPSOX"
      },
      "source": [
        "### **커리큘럼**"
      ]
    },
    {
      "cell_type": "code",
      "metadata": {
        "id": "oBr9cPb6Qomn"
      },
      "source": [
        "from collections import deque\n",
        "def all_time(graph,n):\n",
        "  time=[[0] for _ in range(n+1)]\n",
        "  q=deque()\n",
        "  for i in range(len(graph)):\n",
        "    if len(graph[i])==1:\n",
        "      time[i]=graph[i][0]\n",
        "      q.append(i)\n",
        "  while q:\n",
        "    now=q.popleft()\n",
        "    for i in range(len(graph)):\n",
        "      if len(graph[i])>=2 and now in graph[i][1:]:\n",
        "        if len(graph[i])==2:\n",
        "          time[i]=max(time[now]+graph[i][0],time[i][0])\n",
        "          q.append(i)\n",
        "        else:\n",
        "          ind=graph[i][1:].index(now)\n",
        "          del graph[i][now+1]\n",
        "  return time[1:]\n",
        "\n",
        "    "
      ],
      "execution_count": null,
      "outputs": []
    },
    {
      "cell_type": "code",
      "metadata": {
        "colab": {
          "base_uri": "https://localhost:8080/"
        },
        "id": "iZV0Bx2vPWsP",
        "outputId": "62922cee-2c71-47bb-99db-bf6a2d02a895"
      },
      "source": [
        "n=5\n",
        "graph=[[],[10],[10,1],[4,1],[4,3,1],[3,3]]\n",
        "\n",
        "all_time(graph,n)"
      ],
      "execution_count": null,
      "outputs": [
        {
          "output_type": "execute_result",
          "data": {
            "text/plain": [
              "[10, 20, 14, 18, 17]"
            ]
          },
          "metadata": {
            "tags": []
          },
          "execution_count": 33
        }
      ]
    },
    {
      "cell_type": "markdown",
      "metadata": {
        "id": "RGKWNtQDYtEM"
      },
      "source": [
        "### **여행 계획**"
      ]
    },
    {
      "cell_type": "code",
      "metadata": {
        "id": "KTO2TCk4Za2d"
      },
      "source": [
        "def find_parent(parent,x):\n",
        "  if parent[x]!=x:\n",
        "    return find_parent(parent,parent[x])\n",
        "  return parent[x]"
      ],
      "execution_count": null,
      "outputs": []
    },
    {
      "cell_type": "code",
      "metadata": {
        "id": "-PcHeqpyZay_"
      },
      "source": [
        "def union_parent(parent,a,b):\n",
        "  a=find_parent(parent,a)\n",
        "  b=find_parent(parent,b)\n",
        "  if a>b:\n",
        "    parent[a]=b\n",
        "  else:\n",
        "    parent[b]=a"
      ],
      "execution_count": null,
      "outputs": []
    },
    {
      "cell_type": "code",
      "metadata": {
        "id": "1PJhE2fCZ2Xl"
      },
      "source": [
        "def can_do(graph,arr):\n",
        "  arr=[i-1 for i in arr]\n",
        "  parent=[i for i in range(len(graph))]\n",
        "  for i in range(len(graph)):\n",
        "    for j in range(len(graph[0])):\n",
        "      if graph[i][j]==1:\n",
        "        union_parent(parent,i,j)\n",
        "\n",
        "  for i in range(len(arr)-1):\n",
        "    if find_parent(parent,arr[i])==find_parent(parent,arr[i+1]):\n",
        "      pass\n",
        "    else:\n",
        "      return 'N0'\n",
        "  return 'YES'\n"
      ],
      "execution_count": null,
      "outputs": []
    },
    {
      "cell_type": "code",
      "metadata": {
        "id": "IxY9ozqRTcCh",
        "colab": {
          "base_uri": "https://localhost:8080/",
          "height": 35
        },
        "outputId": "09e316e5-31ba-4574-df06-17a21ccaeb11"
      },
      "source": [
        "graph=[[0,1,0,1,1],[1,0,1,1,0],[0,1,0,0,0],[1,1,0,0,0],[1,0,0,0,0]]\n",
        "arr=[2,3,4,3]\n",
        "can_do(graph,arr)"
      ],
      "execution_count": null,
      "outputs": [
        {
          "output_type": "execute_result",
          "data": {
            "application/vnd.google.colaboratory.intrinsic+json": {
              "type": "string"
            },
            "text/plain": [
              "'YES'"
            ]
          },
          "metadata": {
            "tags": []
          },
          "execution_count": 11
        }
      ]
    },
    {
      "cell_type": "markdown",
      "metadata": {
        "id": "rfE5bvx4bOb7"
      },
      "source": [
        "### **탑승구**"
      ]
    },
    {
      "cell_type": "code",
      "metadata": {
        "id": "tZm6xz_9ZLA1"
      },
      "source": [
        "def get_max(chair,n):\n",
        "  if chair[n] ==0:\n",
        "    chair[n]=1\n",
        "  else:\n",
        "    return get_max(chair,n-1)"
      ],
      "execution_count": null,
      "outputs": []
    },
    {
      "cell_type": "code",
      "metadata": {
        "id": "iFMuhosQcmWV"
      },
      "source": [
        "def count(G,arr):\n",
        "  chair = [0 for i in range(G+1)]\n",
        "  for i in range(len(arr)):\n",
        "    get_max(chair,arr[i])\n",
        "    if chair[0]==1:\n",
        "      return i"
      ],
      "execution_count": null,
      "outputs": []
    },
    {
      "cell_type": "code",
      "metadata": {
        "colab": {
          "base_uri": "https://localhost:8080/"
        },
        "id": "bgw2yW_RdEm1",
        "outputId": "da9aa1f9-4387-4c41-831a-1ea7e476bdd1"
      },
      "source": [
        "G=4\n",
        "arr=[4,1,1]\n",
        "count(G,arr)"
      ],
      "execution_count": null,
      "outputs": [
        {
          "output_type": "execute_result",
          "data": {
            "text/plain": [
              "2"
            ]
          },
          "metadata": {
            "tags": []
          },
          "execution_count": 24
        }
      ]
    },
    {
      "cell_type": "code",
      "metadata": {
        "colab": {
          "base_uri": "https://localhost:8080/"
        },
        "id": "nP_5rsshdH2p",
        "outputId": "ed5a41ed-84a8-4497-9dce-b0db8a46048c"
      },
      "source": [
        "G=4\n",
        "arr=[2,2,3,3,4,5]\n",
        "count(G,arr)"
      ],
      "execution_count": null,
      "outputs": [
        {
          "output_type": "execute_result",
          "data": {
            "text/plain": [
              "3"
            ]
          },
          "metadata": {
            "tags": []
          },
          "execution_count": 25
        }
      ]
    },
    {
      "cell_type": "markdown",
      "metadata": {
        "id": "gRlUgfGOpopw"
      },
      "source": [
        "### **어두운 길**"
      ]
    },
    {
      "cell_type": "code",
      "metadata": {
        "id": "8Dfc2_FgqYrm"
      },
      "source": [
        "def find_parent(parent,x):\n",
        "  if parent[x]!=x:\n",
        "    return find_parent(parent,parent[x])\n",
        "  return parent[x]\n",
        "\n",
        "def union_parent(parent,a,b):\n",
        "  a=find_parent(parent,a)\n",
        "  b=find_parent(parent,b)\n",
        "  if a>b:\n",
        "    parent[a]=b\n",
        "  else:\n",
        "    parent[b]=a"
      ],
      "execution_count": null,
      "outputs": []
    },
    {
      "cell_type": "code",
      "metadata": {
        "id": "CqsHpH4xdYSj"
      },
      "source": [
        "def dark_road(arr,N):\n",
        "  parent=[i for i in range(N+1)]\n",
        "  arr=sorted(arr,key = lambda x : x[2])\n",
        "  sum=0\n",
        "  for i in arr:\n",
        "    if find_parent(parent,i[0]) != find_parent(parent,i[1]):\n",
        "      union_parent(parent,i[0],i[1])\n",
        "    else:\n",
        "      sum+=i[2]\n",
        "  return sum"
      ],
      "execution_count": null,
      "outputs": []
    },
    {
      "cell_type": "code",
      "metadata": {
        "colab": {
          "base_uri": "https://localhost:8080/"
        },
        "id": "qppJ6HdQqQ-C",
        "outputId": "c3d2a68a-59dd-442c-f882-efcc457cee69"
      },
      "source": [
        "N=7\n",
        "arr=[[0,1,7],[0,3,5],[1,2,8],[1,3,9],[1,4,7],[2,4,5],[3,4,15],[3,5,6],[4,5,8],[4,6,9],[5,6,11]]\n",
        "dark_road(arr,N)"
      ],
      "execution_count": null,
      "outputs": [
        {
          "output_type": "execute_result",
          "data": {
            "text/plain": [
              "51"
            ]
          },
          "metadata": {
            "tags": []
          },
          "execution_count": 57
        }
      ]
    },
    {
      "cell_type": "markdown",
      "metadata": {
        "id": "ivNikLKzsP3T"
      },
      "source": [
        "### **행성터널**"
      ]
    },
    {
      "cell_type": "code",
      "metadata": {
        "id": "2L5OcrNsskHi"
      },
      "source": [
        "import numpy as np\n",
        "def loss_func(arr1,arr2):\n",
        "  return min(abs(np.array(arr1)-np.array(arr2)))\n",
        "\n",
        "def find_parent(parent,x):\n",
        "  if parent[x]!=x:\n",
        "    return find_parent(parent,parent[x])\n",
        "  return parent[x]\n",
        "\n",
        "def union_parent(parent,a,b):\n",
        "  a=find_parent(parent,a)\n",
        "  b=find_parent(parent,b)\n",
        "  if a>b:\n",
        "    parent[a]=b\n",
        "  else:\n",
        "    parent[b]=a"
      ],
      "execution_count": null,
      "outputs": []
    },
    {
      "cell_type": "code",
      "metadata": {
        "id": "3tROlNHLsO1C"
      },
      "source": [
        "import itertools\n",
        "def turnel(arr):\n",
        "  graph=[]\n",
        "  parent=[x for x in range(len(arr)+1)]\n",
        "  arr_case=itertools.combinations([i for i in range(len(arr))], 2)\n",
        "\n",
        "  for i in arr_case:\n",
        "    #[[1,2, 비용],[1,3,비용].....]\n",
        "    lis=[i[0],i[1],loss_func(arr[i[0]],arr[i[1]])]\n",
        "    graph.append(lis)\n",
        "  graph=sorted(graph,key = lambda x : x[2])\n",
        "  sum=0\n",
        "  for i in graph:\n",
        "    if find_parent(parent,i[0]) != find_parent(parent,i[1]):\n",
        "      union_parent(parent,i[0],i[1])\n",
        "      sum+=i[2]\n",
        "  return sum\n"
      ],
      "execution_count": null,
      "outputs": []
    },
    {
      "cell_type": "code",
      "metadata": {
        "colab": {
          "base_uri": "https://localhost:8080/"
        },
        "id": "ynyp96cCuyX9",
        "outputId": "139ec86f-4f7e-431a-8139-67194f73fb59"
      },
      "source": [
        "arr=[[11,-15,-15],[14,-5,-15],[-1,-1,-5],[10,-4,-1],[19,-4,19]]\n",
        "turnel(arr)"
      ],
      "execution_count": null,
      "outputs": [
        {
          "output_type": "stream",
          "text": [
            "0.005782365798950195\n"
          ],
          "name": "stdout"
        },
        {
          "output_type": "execute_result",
          "data": {
            "text/plain": [
              "4"
            ]
          },
          "metadata": {
            "tags": []
          },
          "execution_count": 4
        }
      ]
    },
    {
      "cell_type": "markdown",
      "metadata": {
        "id": "uJ91hlS82poZ"
      },
      "source": [
        "### **최종 순위**"
      ]
    },
    {
      "cell_type": "code",
      "metadata": {
        "id": "tnKcYw7kuze-"
      },
      "source": [
        "def last_lanking(last, change):\n",
        "  for i in range(len(last)-1):\n",
        "    if [last[i+1],last[i]] in change:\n",
        "      change.remove([last[i+1],last[i]])\n",
        "      last[i],last[i+1]=last[i+1],last[i]\n",
        "  if len(change) != 0:\n",
        "    for i in change:\n",
        "      if last.index(i[0]) > last.index(i[1]):\n",
        "        return '?'\n",
        "      else:\n",
        "        break\n",
        "    return 'IMPOSSIBLE'\n",
        "  else:\n",
        "    return last "
      ],
      "execution_count": null,
      "outputs": []
    },
    {
      "cell_type": "code",
      "metadata": {
        "colab": {
          "base_uri": "https://localhost:8080/"
        },
        "id": "llNDrLJe6msB",
        "outputId": "2ef70fd7-993b-4a3e-b858-2cf0304620d9"
      },
      "source": [
        "last=[5,4,3,2,1]\n",
        "change=[[2,4],[3,4]]\n",
        "last_lanking(last,change)"
      ],
      "execution_count": null,
      "outputs": [
        {
          "output_type": "execute_result",
          "data": {
            "text/plain": [
              "[5, 3, 2, 4, 1]"
            ]
          },
          "metadata": {
            "tags": []
          },
          "execution_count": 11
        }
      ]
    },
    {
      "cell_type": "code",
      "metadata": {
        "colab": {
          "base_uri": "https://localhost:8080/"
        },
        "id": "5bgBxJp66sLf",
        "outputId": "44266fcf-8f7a-4fb8-ef1c-00b3460613a8"
      },
      "source": [
        "last=[2,3,1]\n",
        "change=[]\n",
        "last_lanking(last,change)"
      ],
      "execution_count": null,
      "outputs": [
        {
          "output_type": "execute_result",
          "data": {
            "text/plain": [
              "[2, 3, 1]"
            ]
          },
          "metadata": {
            "tags": []
          },
          "execution_count": 12
        }
      ]
    },
    {
      "cell_type": "code",
      "metadata": {
        "colab": {
          "base_uri": "https://localhost:8080/",
          "height": 35
        },
        "id": "8ZMsxeQ16yGT",
        "outputId": "42d09a13-7f0d-4f36-8503-10f29cbcd2ff"
      },
      "source": [
        "last=[1,2,3,4]\n",
        "change=[[1,2],[3,4],[2,3]]\n",
        "last_lanking(last,change)"
      ],
      "execution_count": null,
      "outputs": [
        {
          "output_type": "execute_result",
          "data": {
            "application/vnd.google.colaboratory.intrinsic+json": {
              "type": "string"
            },
            "text/plain": [
              "'IMPOSSIBLE'"
            ]
          },
          "metadata": {
            "tags": []
          },
          "execution_count": 13
        }
      ]
    },
    {
      "cell_type": "code",
      "metadata": {
        "id": "S81XRl8C63IN"
      },
      "source": [
        ""
      ],
      "execution_count": null,
      "outputs": []
    }
  ]
}